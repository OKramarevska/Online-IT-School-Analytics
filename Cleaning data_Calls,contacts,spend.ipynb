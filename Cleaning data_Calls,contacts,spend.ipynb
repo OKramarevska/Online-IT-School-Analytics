{
 "cells": [
  {
   "cell_type": "markdown",
   "id": "1b6e980c-505c-45ca-83fd-41abdcad8084",
   "metadata": {},
   "source": [
    "Data cleaning and preparation:\n",
    "1. Remove duplicate and irrelevant columns.\n",
    "2. Process missing values accordingly.\n",
    "3. Convert the data types for columns such as dates and numeric\n",
    "values."
   ]
  },
  {
   "cell_type": "code",
   "execution_count": 11,
   "id": "8c40eb80-3396-4549-a0c6-1e013efddad2",
   "metadata": {},
   "outputs": [],
   "source": [
    "import pandas as pd\n",
    "import numpy as np\n",
    "import seaborn as sns\n",
    "import datetime\n",
    "import matplotlib.pyplot as plt"
   ]
  },
  {
   "cell_type": "raw",
   "id": "4077d142-34a1-4445-917f-113b7d3d717b",
   "metadata": {},
   "source": [
    "   Analysis of Contacts dataset"
   ]
  },
  {
   "cell_type": "code",
   "execution_count": 12,
   "id": "731ec73d-46cc-48e9-8539-e12dd87413ed",
   "metadata": {},
   "outputs": [
    {
     "data": {
      "text/html": [
       "<div>\n",
       "<style scoped>\n",
       "    .dataframe tbody tr th:only-of-type {\n",
       "        vertical-align: middle;\n",
       "    }\n",
       "\n",
       "    .dataframe tbody tr th {\n",
       "        vertical-align: top;\n",
       "    }\n",
       "\n",
       "    .dataframe thead th {\n",
       "        text-align: right;\n",
       "    }\n",
       "</style>\n",
       "<table border=\"1\" class=\"dataframe\">\n",
       "  <thead>\n",
       "    <tr style=\"text-align: right;\">\n",
       "      <th></th>\n",
       "      <th>Id</th>\n",
       "      <th>Contact Owner Name</th>\n",
       "      <th>Created Time</th>\n",
       "      <th>Modified Time</th>\n",
       "    </tr>\n",
       "  </thead>\n",
       "  <tbody>\n",
       "    <tr>\n",
       "      <th>count</th>\n",
       "      <td>18548</td>\n",
       "      <td>18548</td>\n",
       "      <td>18548</td>\n",
       "      <td>18548</td>\n",
       "    </tr>\n",
       "    <tr>\n",
       "      <th>unique</th>\n",
       "      <td>18548</td>\n",
       "      <td>28</td>\n",
       "      <td>17921</td>\n",
       "      <td>16580</td>\n",
       "    </tr>\n",
       "    <tr>\n",
       "      <th>top</th>\n",
       "      <td>5805028000056907001</td>\n",
       "      <td>Charlie Davis</td>\n",
       "      <td>10.06.2024 09:00</td>\n",
       "      <td>13.06.2024 17:08</td>\n",
       "    </tr>\n",
       "    <tr>\n",
       "      <th>freq</th>\n",
       "      <td>1</td>\n",
       "      <td>2018</td>\n",
       "      <td>13</td>\n",
       "      <td>25</td>\n",
       "    </tr>\n",
       "  </tbody>\n",
       "</table>\n",
       "</div>"
      ],
      "text/plain": [
       "                         Id Contact Owner Name      Created Time  \\\n",
       "count                 18548              18548             18548   \n",
       "unique                18548                 28             17921   \n",
       "top     5805028000056907001      Charlie Davis  10.06.2024 09:00   \n",
       "freq                      1               2018                13   \n",
       "\n",
       "           Modified Time  \n",
       "count              18548  \n",
       "unique             16580  \n",
       "top     13.06.2024 17:08  \n",
       "freq                  25  "
      ]
     },
     "execution_count": 12,
     "metadata": {},
     "output_type": "execute_result"
    }
   ],
   "source": [
    "contacts = pd.read_excel('Contacts (Done).xlsx', dtype={'Id': str})\n",
    "contacts.head()\n",
    "contacts.describe()"
   ]
  },
  {
   "cell_type": "code",
   "execution_count": 13,
   "id": "6a37586b-c0c6-4e87-89b2-9c8cd1dfa7c9",
   "metadata": {},
   "outputs": [],
   "source": [
    "#Convert the data types\n",
    "contacts[\"Created Time\"] = pd.to_datetime(contacts[\"Created Time\"],\n",
    "                                             format='%d.%m.%Y %H:%M',\n",
    "                                             dayfirst=True,\n",
    "                                             errors=\"raise\")\n",
    "contacts[\"Modified Time\"] = pd.to_datetime(contacts[\"Modified Time\"],\n",
    "                                              format='%d.%m.%Y %H:%M',\n",
    "                                              dayfirst=True,\n",
    "                                              errors=\"raise\")"
   ]
  },
  {
   "cell_type": "code",
   "execution_count": 14,
   "id": "c24f4a43-f969-4e40-97aa-fff1ddd47fc6",
   "metadata": {},
   "outputs": [
    {
     "name": "stdout",
     "output_type": "stream",
     "text": [
      "<class 'pandas.core.frame.DataFrame'>\n",
      "RangeIndex: 18548 entries, 0 to 18547\n",
      "Data columns (total 4 columns):\n",
      " #   Column              Non-Null Count  Dtype         \n",
      "---  ------              --------------  -----         \n",
      " 0   Id                  18548 non-null  object        \n",
      " 1   Contact Owner Name  18548 non-null  object        \n",
      " 2   Created Time        18548 non-null  datetime64[ns]\n",
      " 3   Modified Time       18548 non-null  datetime64[ns]\n",
      "dtypes: datetime64[ns](2), object(2)\n",
      "memory usage: 579.8+ KB\n"
     ]
    }
   ],
   "source": [
    "contacts.info()"
   ]
  },
  {
   "cell_type": "code",
   "execution_count": 15,
   "id": "7007dfe6-185f-44b5-a83f-d8a47c9c548f",
   "metadata": {},
   "outputs": [
    {
     "data": {
      "text/html": [
       "<div>\n",
       "<style scoped>\n",
       "    .dataframe tbody tr th:only-of-type {\n",
       "        vertical-align: middle;\n",
       "    }\n",
       "\n",
       "    .dataframe tbody tr th {\n",
       "        vertical-align: top;\n",
       "    }\n",
       "\n",
       "    .dataframe thead th {\n",
       "        text-align: right;\n",
       "    }\n",
       "</style>\n",
       "<table border=\"1\" class=\"dataframe\">\n",
       "  <thead>\n",
       "    <tr style=\"text-align: right;\">\n",
       "      <th></th>\n",
       "      <th>Id</th>\n",
       "      <th>Contact Owner Name</th>\n",
       "      <th>Created Time</th>\n",
       "      <th>Modified Time</th>\n",
       "    </tr>\n",
       "  </thead>\n",
       "  <tbody>\n",
       "    <tr>\n",
       "      <th>203</th>\n",
       "      <td>5805028000001949074</td>\n",
       "      <td>Bob Brown</td>\n",
       "      <td>2023-07-17 18:40:00</td>\n",
       "      <td>2023-07-17 18:40:00</td>\n",
       "    </tr>\n",
       "    <tr>\n",
       "      <th>205</th>\n",
       "      <td>5805028000001953081</td>\n",
       "      <td>Bob Brown</td>\n",
       "      <td>2023-07-17 18:40:00</td>\n",
       "      <td>2023-07-17 18:40:00</td>\n",
       "    </tr>\n",
       "    <tr>\n",
       "      <th>279</th>\n",
       "      <td>5805028000002340967</td>\n",
       "      <td>Bob Brown</td>\n",
       "      <td>2023-07-18 16:53:00</td>\n",
       "      <td>2023-07-18 16:53:00</td>\n",
       "    </tr>\n",
       "    <tr>\n",
       "      <th>280</th>\n",
       "      <td>5805028000002344049</td>\n",
       "      <td>Bob Brown</td>\n",
       "      <td>2023-07-18 16:53:00</td>\n",
       "      <td>2023-07-18 16:53:00</td>\n",
       "    </tr>\n",
       "    <tr>\n",
       "      <th>334</th>\n",
       "      <td>5805028000002740077</td>\n",
       "      <td>Bob Brown</td>\n",
       "      <td>2023-07-21 12:26:00</td>\n",
       "      <td>2023-07-21 12:26:00</td>\n",
       "    </tr>\n",
       "    <tr>\n",
       "      <th>...</th>\n",
       "      <td>...</td>\n",
       "      <td>...</td>\n",
       "      <td>...</td>\n",
       "      <td>...</td>\n",
       "    </tr>\n",
       "    <tr>\n",
       "      <th>17864</th>\n",
       "      <td>5805028000054231884</td>\n",
       "      <td>Rachel White</td>\n",
       "      <td>2024-06-10 09:00:00</td>\n",
       "      <td>2024-06-10 09:33:00</td>\n",
       "    </tr>\n",
       "    <tr>\n",
       "      <th>17865</th>\n",
       "      <td>5805028000054232018</td>\n",
       "      <td>Rachel White</td>\n",
       "      <td>2024-06-10 09:00:00</td>\n",
       "      <td>2024-06-10 09:33:00</td>\n",
       "    </tr>\n",
       "    <tr>\n",
       "      <th>17869</th>\n",
       "      <td>5805028000054238271</td>\n",
       "      <td>Rachel White</td>\n",
       "      <td>2024-06-10 09:00:00</td>\n",
       "      <td>2024-06-10 09:33:00</td>\n",
       "    </tr>\n",
       "    <tr>\n",
       "      <th>17870</th>\n",
       "      <td>5805028000054238317</td>\n",
       "      <td>Rachel White</td>\n",
       "      <td>2024-06-10 09:00:00</td>\n",
       "      <td>2024-06-10 09:33:00</td>\n",
       "    </tr>\n",
       "    <tr>\n",
       "      <th>17872</th>\n",
       "      <td>5805028000054238365</td>\n",
       "      <td>Rachel White</td>\n",
       "      <td>2024-06-10 09:00:00</td>\n",
       "      <td>2024-06-10 09:33:00</td>\n",
       "    </tr>\n",
       "  </tbody>\n",
       "</table>\n",
       "<p>71 rows × 4 columns</p>\n",
       "</div>"
      ],
      "text/plain": [
       "                        Id Contact Owner Name        Created Time  \\\n",
       "203    5805028000001949074          Bob Brown 2023-07-17 18:40:00   \n",
       "205    5805028000001953081          Bob Brown 2023-07-17 18:40:00   \n",
       "279    5805028000002340967          Bob Brown 2023-07-18 16:53:00   \n",
       "280    5805028000002344049          Bob Brown 2023-07-18 16:53:00   \n",
       "334    5805028000002740077          Bob Brown 2023-07-21 12:26:00   \n",
       "...                    ...                ...                 ...   \n",
       "17864  5805028000054231884       Rachel White 2024-06-10 09:00:00   \n",
       "17865  5805028000054232018       Rachel White 2024-06-10 09:00:00   \n",
       "17869  5805028000054238271       Rachel White 2024-06-10 09:00:00   \n",
       "17870  5805028000054238317       Rachel White 2024-06-10 09:00:00   \n",
       "17872  5805028000054238365       Rachel White 2024-06-10 09:00:00   \n",
       "\n",
       "            Modified Time  \n",
       "203   2023-07-17 18:40:00  \n",
       "205   2023-07-17 18:40:00  \n",
       "279   2023-07-18 16:53:00  \n",
       "280   2023-07-18 16:53:00  \n",
       "334   2023-07-21 12:26:00  \n",
       "...                   ...  \n",
       "17864 2024-06-10 09:33:00  \n",
       "17865 2024-06-10 09:33:00  \n",
       "17869 2024-06-10 09:33:00  \n",
       "17870 2024-06-10 09:33:00  \n",
       "17872 2024-06-10 09:33:00  \n",
       "\n",
       "[71 rows x 4 columns]"
      ]
     },
     "execution_count": 15,
     "metadata": {},
     "output_type": "execute_result"
    }
   ],
   "source": [
    "#Removing duplicates\n",
    "contacts[contacts.duplicated(keep=False, subset=contacts.columns[1:])]"
   ]
  },
  {
   "cell_type": "code",
   "execution_count": 16,
   "id": "19fa2163-c422-4a03-aa00-a5eb04b3d0aa",
   "metadata": {},
   "outputs": [
    {
     "data": {
      "text/plain": [
       "np.int64(38)"
      ]
     },
     "execution_count": 16,
     "metadata": {},
     "output_type": "execute_result"
    }
   ],
   "source": [
    "contacts.duplicated(subset=contacts.columns[1:]).sum()"
   ]
  },
  {
   "cell_type": "code",
   "execution_count": 17,
   "id": "d8820ad6-38eb-4ec4-9b00-e0f724be4db5",
   "metadata": {},
   "outputs": [
    {
     "data": {
      "text/plain": [
       "np.int64(0)"
      ]
     },
     "execution_count": 17,
     "metadata": {},
     "output_type": "execute_result"
    }
   ],
   "source": [
    "contacts.drop_duplicates(subset=contacts.columns[1:], inplace=True)\n",
    "contacts.duplicated(subset=contacts.columns[1:]).sum()"
   ]
  },
  {
   "cell_type": "code",
   "execution_count": 18,
   "id": "44a0d0ec-c838-4c89-9621-3d5233b1a1bb",
   "metadata": {},
   "outputs": [
    {
     "name": "stdout",
     "output_type": "stream",
     "text": [
      "<class 'pandas.core.frame.DataFrame'>\n",
      "Index: 18510 entries, 0 to 18547\n",
      "Data columns (total 4 columns):\n",
      " #   Column              Non-Null Count  Dtype         \n",
      "---  ------              --------------  -----         \n",
      " 0   Id                  18510 non-null  object        \n",
      " 1   Contact Owner Name  18510 non-null  object        \n",
      " 2   Created Time        18510 non-null  datetime64[ns]\n",
      " 3   Modified Time       18510 non-null  datetime64[ns]\n",
      "dtypes: datetime64[ns](2), object(2)\n",
      "memory usage: 723.0+ KB\n"
     ]
    }
   ],
   "source": [
    "contacts.info()"
   ]
  },
  {
   "cell_type": "code",
   "execution_count": 19,
   "id": "586f54b5-5f8a-4890-aa0b-56a0fdd78967",
   "metadata": {},
   "outputs": [],
   "source": [
    "# Saving the updated file after cleaning\n",
    "contacts.to_excel(\"Contacts (Final).xlsx\", index=False)"
   ]
  },
  {
   "cell_type": "raw",
   "id": "8066659b-1f94-4e9e-8e60-c8c57dd8ba46",
   "metadata": {},
   "source": [
    "Analysis of Spend dataset"
   ]
  },
  {
   "cell_type": "code",
   "execution_count": 20,
   "id": "8f930182-6939-41f8-87e0-e0441289113a",
   "metadata": {},
   "outputs": [
    {
     "data": {
      "text/html": [
       "<div>\n",
       "<style scoped>\n",
       "    .dataframe tbody tr th:only-of-type {\n",
       "        vertical-align: middle;\n",
       "    }\n",
       "\n",
       "    .dataframe tbody tr th {\n",
       "        vertical-align: top;\n",
       "    }\n",
       "\n",
       "    .dataframe thead th {\n",
       "        text-align: right;\n",
       "    }\n",
       "</style>\n",
       "<table border=\"1\" class=\"dataframe\">\n",
       "  <thead>\n",
       "    <tr style=\"text-align: right;\">\n",
       "      <th></th>\n",
       "      <th>Date</th>\n",
       "      <th>Source</th>\n",
       "      <th>Campaign</th>\n",
       "      <th>Impressions</th>\n",
       "      <th>Spend</th>\n",
       "      <th>Clicks</th>\n",
       "      <th>AdGroup</th>\n",
       "      <th>Ad</th>\n",
       "    </tr>\n",
       "  </thead>\n",
       "  <tbody>\n",
       "    <tr>\n",
       "      <th>0</th>\n",
       "      <td>2023-07-03</td>\n",
       "      <td>Google Ads</td>\n",
       "      <td>gen_analyst_DE</td>\n",
       "      <td>6</td>\n",
       "      <td>0.00</td>\n",
       "      <td>0</td>\n",
       "      <td>NaN</td>\n",
       "      <td>NaN</td>\n",
       "    </tr>\n",
       "    <tr>\n",
       "      <th>1</th>\n",
       "      <td>2023-07-03</td>\n",
       "      <td>Google Ads</td>\n",
       "      <td>performancemax_eng_DE</td>\n",
       "      <td>4</td>\n",
       "      <td>0.01</td>\n",
       "      <td>1</td>\n",
       "      <td>NaN</td>\n",
       "      <td>NaN</td>\n",
       "    </tr>\n",
       "    <tr>\n",
       "      <th>2</th>\n",
       "      <td>2023-07-03</td>\n",
       "      <td>Facebook Ads</td>\n",
       "      <td>NaN</td>\n",
       "      <td>0</td>\n",
       "      <td>0.00</td>\n",
       "      <td>0</td>\n",
       "      <td>NaN</td>\n",
       "      <td>NaN</td>\n",
       "    </tr>\n",
       "    <tr>\n",
       "      <th>3</th>\n",
       "      <td>2023-07-03</td>\n",
       "      <td>Google Ads</td>\n",
       "      <td>NaN</td>\n",
       "      <td>0</td>\n",
       "      <td>0.00</td>\n",
       "      <td>0</td>\n",
       "      <td>NaN</td>\n",
       "      <td>NaN</td>\n",
       "    </tr>\n",
       "    <tr>\n",
       "      <th>4</th>\n",
       "      <td>2023-07-03</td>\n",
       "      <td>CRM</td>\n",
       "      <td>NaN</td>\n",
       "      <td>0</td>\n",
       "      <td>0.00</td>\n",
       "      <td>0</td>\n",
       "      <td>NaN</td>\n",
       "      <td>NaN</td>\n",
       "    </tr>\n",
       "  </tbody>\n",
       "</table>\n",
       "</div>"
      ],
      "text/plain": [
       "        Date        Source               Campaign  Impressions  Spend  Clicks  \\\n",
       "0 2023-07-03    Google Ads         gen_analyst_DE            6   0.00       0   \n",
       "1 2023-07-03    Google Ads  performancemax_eng_DE            4   0.01       1   \n",
       "2 2023-07-03  Facebook Ads                    NaN            0   0.00       0   \n",
       "3 2023-07-03    Google Ads                    NaN            0   0.00       0   \n",
       "4 2023-07-03           CRM                    NaN            0   0.00       0   \n",
       "\n",
       "  AdGroup   Ad  \n",
       "0     NaN  NaN  \n",
       "1     NaN  NaN  \n",
       "2     NaN  NaN  \n",
       "3     NaN  NaN  \n",
       "4     NaN  NaN  "
      ]
     },
     "execution_count": 20,
     "metadata": {},
     "output_type": "execute_result"
    }
   ],
   "source": [
    "spend = pd.read_excel('Spend (Done).xlsx')   \n",
    "spend.head()"
   ]
  },
  {
   "cell_type": "code",
   "execution_count": 21,
   "id": "4084be18-ac8b-4fbc-a7d9-97dea9d66922",
   "metadata": {},
   "outputs": [
    {
     "name": "stdout",
     "output_type": "stream",
     "text": [
      "<class 'pandas.core.frame.DataFrame'>\n",
      "RangeIndex: 20779 entries, 0 to 20778\n",
      "Data columns (total 8 columns):\n",
      " #   Column       Non-Null Count  Dtype         \n",
      "---  ------       --------------  -----         \n",
      " 0   Date         20779 non-null  datetime64[ns]\n",
      " 1   Source       20779 non-null  object        \n",
      " 2   Campaign     14785 non-null  object        \n",
      " 3   Impressions  20779 non-null  int64         \n",
      " 4   Spend        20779 non-null  float64       \n",
      " 5   Clicks       20779 non-null  int64         \n",
      " 6   AdGroup      13951 non-null  object        \n",
      " 7   Ad           13951 non-null  object        \n",
      "dtypes: datetime64[ns](1), float64(1), int64(2), object(4)\n",
      "memory usage: 1.3+ MB\n"
     ]
    }
   ],
   "source": [
    "spend.info()"
   ]
  },
  {
   "cell_type": "code",
   "execution_count": 22,
   "id": "6cf5bfd2-161d-43b8-b5cf-2f6612020f11",
   "metadata": {},
   "outputs": [],
   "source": [
    "#Convert the data types\n",
    "spend['Source'] = spend['Source'].astype('category')\n",
    "spend['Campaign'] = spend['Campaign'].fillna('Unknown').astype('category')\n",
    "spend['AdGroup'] = spend['AdGroup'].fillna('Unknown').astype('category')"
   ]
  },
  {
   "cell_type": "code",
   "execution_count": 23,
   "id": "cd7ce2fb-75a3-456a-a495-a5c86e4f1550",
   "metadata": {},
   "outputs": [
    {
     "data": {
      "text/html": [
       "<div>\n",
       "<style scoped>\n",
       "    .dataframe tbody tr th:only-of-type {\n",
       "        vertical-align: middle;\n",
       "    }\n",
       "\n",
       "    .dataframe tbody tr th {\n",
       "        vertical-align: top;\n",
       "    }\n",
       "\n",
       "    .dataframe thead th {\n",
       "        text-align: right;\n",
       "    }\n",
       "</style>\n",
       "<table border=\"1\" class=\"dataframe\">\n",
       "  <thead>\n",
       "    <tr style=\"text-align: right;\">\n",
       "      <th></th>\n",
       "      <th>Spend</th>\n",
       "      <th>Impressions</th>\n",
       "      <th>Clicks</th>\n",
       "    </tr>\n",
       "  </thead>\n",
       "  <tbody>\n",
       "  </tbody>\n",
       "</table>\n",
       "</div>"
      ],
      "text/plain": [
       "Empty DataFrame\n",
       "Columns: [Spend, Impressions, Clicks]\n",
       "Index: []"
      ]
     },
     "execution_count": 23,
     "metadata": {},
     "output_type": "execute_result"
    }
   ],
   "source": [
    "#Remove rows with the 0 for Impressions, Spend, Clicks as not relevant for any analysis\n",
    "spend = spend[~(spend[['Spend', 'Impressions', 'Clicks']] == 0).all(axis=1)]\n",
    "spend[(spend[['Spend', 'Impressions', 'Clicks']] == 0).all(axis=1)][['Spend', 'Impressions', 'Clicks']]"
   ]
  },
  {
   "cell_type": "code",
   "execution_count": 24,
   "id": "95555208-f2a2-4e33-a55d-2c086f4979fc",
   "metadata": {},
   "outputs": [
    {
     "name": "stdout",
     "output_type": "stream",
     "text": [
      "<class 'pandas.core.frame.DataFrame'>\n",
      "Index: 16407 entries, 0 to 20778\n",
      "Data columns (total 8 columns):\n",
      " #   Column       Non-Null Count  Dtype         \n",
      "---  ------       --------------  -----         \n",
      " 0   Date         16407 non-null  datetime64[ns]\n",
      " 1   Source       16407 non-null  category      \n",
      " 2   Campaign     16407 non-null  category      \n",
      " 3   Impressions  16407 non-null  int64         \n",
      " 4   Spend        16407 non-null  float64       \n",
      " 5   Clicks       16407 non-null  int64         \n",
      " 6   AdGroup      16407 non-null  category      \n",
      " 7   Ad           13370 non-null  object        \n",
      "dtypes: category(3), datetime64[ns](1), float64(1), int64(2), object(1)\n",
      "memory usage: 821.0+ KB\n"
     ]
    }
   ],
   "source": [
    "spend.info()"
   ]
  },
  {
   "cell_type": "code",
   "execution_count": 25,
   "id": "d1295b24-394b-469d-b937-31126ce9c8c6",
   "metadata": {},
   "outputs": [
    {
     "data": {
      "text/html": [
       "<div>\n",
       "<style scoped>\n",
       "    .dataframe tbody tr th:only-of-type {\n",
       "        vertical-align: middle;\n",
       "    }\n",
       "\n",
       "    .dataframe tbody tr th {\n",
       "        vertical-align: top;\n",
       "    }\n",
       "\n",
       "    .dataframe thead th {\n",
       "        text-align: right;\n",
       "    }\n",
       "</style>\n",
       "<table border=\"1\" class=\"dataframe\">\n",
       "  <thead>\n",
       "    <tr style=\"text-align: right;\">\n",
       "      <th></th>\n",
       "      <th>Date</th>\n",
       "      <th>Source</th>\n",
       "      <th>Campaign</th>\n",
       "      <th>Impressions</th>\n",
       "      <th>Spend</th>\n",
       "      <th>Clicks</th>\n",
       "      <th>AdGroup</th>\n",
       "      <th>Ad</th>\n",
       "    </tr>\n",
       "  </thead>\n",
       "  <tbody>\n",
       "    <tr>\n",
       "      <th>13844</th>\n",
       "      <td>2024-03-28</td>\n",
       "      <td>SMM</td>\n",
       "      <td>Unknown</td>\n",
       "      <td>0</td>\n",
       "      <td>0.0</td>\n",
       "      <td>4</td>\n",
       "      <td>Unknown</td>\n",
       "      <td>NaN</td>\n",
       "    </tr>\n",
       "    <tr>\n",
       "      <th>15129</th>\n",
       "      <td>2024-04-11</td>\n",
       "      <td>SMM</td>\n",
       "      <td>Unknown</td>\n",
       "      <td>0</td>\n",
       "      <td>0.0</td>\n",
       "      <td>1</td>\n",
       "      <td>Unknown</td>\n",
       "      <td>NaN</td>\n",
       "    </tr>\n",
       "    <tr>\n",
       "      <th>16190</th>\n",
       "      <td>2024-04-22</td>\n",
       "      <td>SMM</td>\n",
       "      <td>Unknown</td>\n",
       "      <td>0</td>\n",
       "      <td>0.0</td>\n",
       "      <td>1</td>\n",
       "      <td>Unknown</td>\n",
       "      <td>NaN</td>\n",
       "    </tr>\n",
       "    <tr>\n",
       "      <th>16466</th>\n",
       "      <td>2024-04-25</td>\n",
       "      <td>SMM</td>\n",
       "      <td>Unknown</td>\n",
       "      <td>0</td>\n",
       "      <td>0.0</td>\n",
       "      <td>1</td>\n",
       "      <td>Unknown</td>\n",
       "      <td>NaN</td>\n",
       "    </tr>\n",
       "    <tr>\n",
       "      <th>16531</th>\n",
       "      <td>2024-04-26</td>\n",
       "      <td>Organic</td>\n",
       "      <td>Unknown</td>\n",
       "      <td>0</td>\n",
       "      <td>0.0</td>\n",
       "      <td>26</td>\n",
       "      <td>Unknown</td>\n",
       "      <td>NaN</td>\n",
       "    </tr>\n",
       "    <tr>\n",
       "      <th>16613</th>\n",
       "      <td>2024-04-27</td>\n",
       "      <td>Organic</td>\n",
       "      <td>Unknown</td>\n",
       "      <td>0</td>\n",
       "      <td>0.0</td>\n",
       "      <td>9</td>\n",
       "      <td>Unknown</td>\n",
       "      <td>NaN</td>\n",
       "    </tr>\n",
       "    <tr>\n",
       "      <th>18009</th>\n",
       "      <td>2024-05-14</td>\n",
       "      <td>Organic</td>\n",
       "      <td>Unknown</td>\n",
       "      <td>0</td>\n",
       "      <td>0.0</td>\n",
       "      <td>4</td>\n",
       "      <td>Unknown</td>\n",
       "      <td>NaN</td>\n",
       "    </tr>\n",
       "  </tbody>\n",
       "</table>\n",
       "</div>"
      ],
      "text/plain": [
       "            Date   Source Campaign  Impressions  Spend  Clicks  AdGroup   Ad\n",
       "13844 2024-03-28      SMM  Unknown            0    0.0       4  Unknown  NaN\n",
       "15129 2024-04-11      SMM  Unknown            0    0.0       1  Unknown  NaN\n",
       "16190 2024-04-22      SMM  Unknown            0    0.0       1  Unknown  NaN\n",
       "16466 2024-04-25      SMM  Unknown            0    0.0       1  Unknown  NaN\n",
       "16531 2024-04-26  Organic  Unknown            0    0.0      26  Unknown  NaN\n",
       "16613 2024-04-27  Organic  Unknown            0    0.0       9  Unknown  NaN\n",
       "18009 2024-05-14  Organic  Unknown            0    0.0       4  Unknown  NaN"
      ]
     },
     "execution_count": 25,
     "metadata": {},
     "output_type": "execute_result"
    }
   ],
   "source": [
    "#Removing duplicates \n",
    "spend[spend.duplicated()]"
   ]
  },
  {
   "cell_type": "code",
   "execution_count": 26,
   "id": "38536169-4d34-49bd-8533-fd1732c3eed6",
   "metadata": {},
   "outputs": [
    {
     "data": {
      "text/plain": [
       "np.int64(7)"
      ]
     },
     "execution_count": 26,
     "metadata": {},
     "output_type": "execute_result"
    }
   ],
   "source": [
    "spend.duplicated().sum()\n",
    "     "
   ]
  },
  {
   "cell_type": "code",
   "execution_count": 27,
   "id": "08e03f1c-f8b8-4cc2-b011-10bc39191b4d",
   "metadata": {},
   "outputs": [
    {
     "data": {
      "text/plain": [
       "np.int64(0)"
      ]
     },
     "execution_count": 27,
     "metadata": {},
     "output_type": "execute_result"
    }
   ],
   "source": [
    "spend.drop_duplicates(keep=False, inplace=True)\n",
    "spend.duplicated(keep=False).sum()"
   ]
  },
  {
   "cell_type": "code",
   "execution_count": 28,
   "id": "f45a7d5e-5fbc-44a0-bbbd-0f845cf22955",
   "metadata": {},
   "outputs": [],
   "source": [
    "# Removing extra data Ad\n",
    "spend.drop(columns=['Ad'], inplace=True)\n"
   ]
  },
  {
   "cell_type": "code",
   "execution_count": 29,
   "id": "3efe29a9-9849-49c3-a0f3-578aa8537430",
   "metadata": {},
   "outputs": [
    {
     "name": "stdout",
     "output_type": "stream",
     "text": [
      "<class 'pandas.core.frame.DataFrame'>\n",
      "Index: 16393 entries, 0 to 20778\n",
      "Data columns (total 7 columns):\n",
      " #   Column       Non-Null Count  Dtype         \n",
      "---  ------       --------------  -----         \n",
      " 0   Date         16393 non-null  datetime64[ns]\n",
      " 1   Source       16393 non-null  category      \n",
      " 2   Campaign     16393 non-null  category      \n",
      " 3   Impressions  16393 non-null  int64         \n",
      " 4   Spend        16393 non-null  float64       \n",
      " 5   Clicks       16393 non-null  int64         \n",
      " 6   AdGroup      16393 non-null  category      \n",
      "dtypes: category(3), datetime64[ns](1), float64(1), int64(2)\n",
      "memory usage: 692.2 KB\n"
     ]
    }
   ],
   "source": [
    "spend.info()"
   ]
  },
  {
   "cell_type": "code",
   "execution_count": 30,
   "id": "73c6f713-e27d-47ef-befb-34a49589d17a",
   "metadata": {},
   "outputs": [],
   "source": [
    "# Saving the updated file after cleaning\n",
    "spend.to_excel(\"Spend (Final).xlsx\", index=False)"
   ]
  },
  {
   "cell_type": "raw",
   "id": "8113fe81-6267-4c57-add8-d45f5cef332c",
   "metadata": {},
   "source": [
    "Analysis of Calls dataset"
   ]
  },
  {
   "cell_type": "code",
   "execution_count": 32,
   "id": "aba2d16f-1ea2-4fea-ad4b-d745e3c1593e",
   "metadata": {},
   "outputs": [
    {
     "data": {
      "text/html": [
       "<div>\n",
       "<style scoped>\n",
       "    .dataframe tbody tr th:only-of-type {\n",
       "        vertical-align: middle;\n",
       "    }\n",
       "\n",
       "    .dataframe tbody tr th {\n",
       "        vertical-align: top;\n",
       "    }\n",
       "\n",
       "    .dataframe thead th {\n",
       "        text-align: right;\n",
       "    }\n",
       "</style>\n",
       "<table border=\"1\" class=\"dataframe\">\n",
       "  <thead>\n",
       "    <tr style=\"text-align: right;\">\n",
       "      <th></th>\n",
       "      <th>Id</th>\n",
       "      <th>Call Start Time</th>\n",
       "      <th>Call Owner Name</th>\n",
       "      <th>CONTACTID</th>\n",
       "      <th>Call Type</th>\n",
       "      <th>Call Duration (in seconds)</th>\n",
       "      <th>Call Status</th>\n",
       "      <th>Dialled Number</th>\n",
       "      <th>Outgoing Call Status</th>\n",
       "      <th>Scheduled in CRM</th>\n",
       "      <th>Tag</th>\n",
       "    </tr>\n",
       "  </thead>\n",
       "  <tbody>\n",
       "    <tr>\n",
       "      <th>0</th>\n",
       "      <td>5805028000000805001</td>\n",
       "      <td>30.06.2023 08:43</td>\n",
       "      <td>John Doe</td>\n",
       "      <td>NaN</td>\n",
       "      <td>Inbound</td>\n",
       "      <td>171.0</td>\n",
       "      <td>Received</td>\n",
       "      <td>NaN</td>\n",
       "      <td>NaN</td>\n",
       "      <td>NaN</td>\n",
       "      <td>NaN</td>\n",
       "    </tr>\n",
       "    <tr>\n",
       "      <th>1</th>\n",
       "      <td>5805028000000768006</td>\n",
       "      <td>30.06.2023 08:46</td>\n",
       "      <td>John Doe</td>\n",
       "      <td>NaN</td>\n",
       "      <td>Outbound</td>\n",
       "      <td>28.0</td>\n",
       "      <td>Attended Dialled</td>\n",
       "      <td>NaN</td>\n",
       "      <td>Completed</td>\n",
       "      <td>0.0</td>\n",
       "      <td>NaN</td>\n",
       "    </tr>\n",
       "    <tr>\n",
       "      <th>2</th>\n",
       "      <td>5805028000000764027</td>\n",
       "      <td>30.06.2023 08:59</td>\n",
       "      <td>John Doe</td>\n",
       "      <td>NaN</td>\n",
       "      <td>Outbound</td>\n",
       "      <td>24.0</td>\n",
       "      <td>Attended Dialled</td>\n",
       "      <td>NaN</td>\n",
       "      <td>Completed</td>\n",
       "      <td>0.0</td>\n",
       "      <td>NaN</td>\n",
       "    </tr>\n",
       "    <tr>\n",
       "      <th>3</th>\n",
       "      <td>5805028000000787003</td>\n",
       "      <td>30.06.2023 09:20</td>\n",
       "      <td>John Doe</td>\n",
       "      <td>5805028000000645014</td>\n",
       "      <td>Outbound</td>\n",
       "      <td>6.0</td>\n",
       "      <td>Attended Dialled</td>\n",
       "      <td>NaN</td>\n",
       "      <td>Completed</td>\n",
       "      <td>0.0</td>\n",
       "      <td>NaN</td>\n",
       "    </tr>\n",
       "    <tr>\n",
       "      <th>4</th>\n",
       "      <td>5805028000000768019</td>\n",
       "      <td>30.06.2023 09:30</td>\n",
       "      <td>John Doe</td>\n",
       "      <td>5805028000000645014</td>\n",
       "      <td>Outbound</td>\n",
       "      <td>11.0</td>\n",
       "      <td>Attended Dialled</td>\n",
       "      <td>NaN</td>\n",
       "      <td>Completed</td>\n",
       "      <td>0.0</td>\n",
       "      <td>NaN</td>\n",
       "    </tr>\n",
       "  </tbody>\n",
       "</table>\n",
       "</div>"
      ],
      "text/plain": [
       "                    Id   Call Start Time Call Owner Name            CONTACTID  \\\n",
       "0  5805028000000805001  30.06.2023 08:43        John Doe                  NaN   \n",
       "1  5805028000000768006  30.06.2023 08:46        John Doe                  NaN   \n",
       "2  5805028000000764027  30.06.2023 08:59        John Doe                  NaN   \n",
       "3  5805028000000787003  30.06.2023 09:20        John Doe  5805028000000645014   \n",
       "4  5805028000000768019  30.06.2023 09:30        John Doe  5805028000000645014   \n",
       "\n",
       "  Call Type  Call Duration (in seconds)       Call Status  Dialled Number  \\\n",
       "0   Inbound                       171.0          Received             NaN   \n",
       "1  Outbound                        28.0  Attended Dialled             NaN   \n",
       "2  Outbound                        24.0  Attended Dialled             NaN   \n",
       "3  Outbound                         6.0  Attended Dialled             NaN   \n",
       "4  Outbound                        11.0  Attended Dialled             NaN   \n",
       "\n",
       "  Outgoing Call Status  Scheduled in CRM  Tag  \n",
       "0                  NaN               NaN  NaN  \n",
       "1            Completed               0.0  NaN  \n",
       "2            Completed               0.0  NaN  \n",
       "3            Completed               0.0  NaN  \n",
       "4            Completed               0.0  NaN  "
      ]
     },
     "execution_count": 32,
     "metadata": {},
     "output_type": "execute_result"
    }
   ],
   "source": [
    "#calls = pd.read_excel('Calls (Done).xlsx')   \n",
    "calls = pd.read_excel('Calls (Done).xlsx', dtype={'Id': str, \"CONTACTID\": str})\n",
    "calls.head()"
   ]
  },
  {
   "cell_type": "code",
   "execution_count": 33,
   "id": "9ef3fded-bf2b-4eaf-9514-1695df49b007",
   "metadata": {},
   "outputs": [
    {
     "name": "stdout",
     "output_type": "stream",
     "text": [
      "<class 'pandas.core.frame.DataFrame'>\n",
      "RangeIndex: 95874 entries, 0 to 95873\n",
      "Data columns (total 11 columns):\n",
      " #   Column                      Non-Null Count  Dtype  \n",
      "---  ------                      --------------  -----  \n",
      " 0   Id                          95874 non-null  object \n",
      " 1   Call Start Time             95874 non-null  object \n",
      " 2   Call Owner Name             95874 non-null  object \n",
      " 3   CONTACTID                   91941 non-null  object \n",
      " 4   Call Type                   95874 non-null  object \n",
      " 5   Call Duration (in seconds)  95791 non-null  float64\n",
      " 6   Call Status                 95874 non-null  object \n",
      " 7   Dialled Number              0 non-null      float64\n",
      " 8   Outgoing Call Status        86875 non-null  object \n",
      " 9   Scheduled in CRM            86875 non-null  float64\n",
      " 10  Tag                         0 non-null      float64\n",
      "dtypes: float64(4), object(7)\n",
      "memory usage: 8.0+ MB\n"
     ]
    }
   ],
   "source": [
    "calls.info()"
   ]
  },
  {
   "cell_type": "code",
   "execution_count": 34,
   "id": "29a9048c-04fa-410c-a9be-f376f06c2c9d",
   "metadata": {},
   "outputs": [],
   "source": [
    "#Convert the data types\n",
    "calls['Call Start Time'] = pd.to_datetime(calls['Call Start Time'], format='%d.%m.%Y %H:%M', dayfirst=True, errors='raise')\n",
    "\n",
    "calls_columns = ['Call Owner Name', 'Call Type', 'Call Status', 'Outgoing Call Status', 'Scheduled in CRM']\n",
    "\n",
    "for col in calls_columns:\n",
    "    calls[col] = calls[col].astype('category')\n",
    "\n",
    "for col in ['Outgoing Call Status', 'Scheduled in CRM']:\n",
    "    if 'Not outgoing call' not in calls[col].cat.categories:\n",
    "        calls[col] = calls[col].cat.add_categories(['Not outgoing call'])\n",
    "    calls[col] = calls[col].fillna('Not outgoing call')"
   ]
  },
  {
   "cell_type": "code",
   "execution_count": 35,
   "id": "f342355e-0428-4bb2-8997-e7db24d3fee9",
   "metadata": {},
   "outputs": [
    {
     "name": "stdout",
     "output_type": "stream",
     "text": [
      "<class 'pandas.core.frame.DataFrame'>\n",
      "RangeIndex: 95874 entries, 0 to 95873\n",
      "Data columns (total 11 columns):\n",
      " #   Column                      Non-Null Count  Dtype         \n",
      "---  ------                      --------------  -----         \n",
      " 0   Id                          95874 non-null  object        \n",
      " 1   Call Start Time             95874 non-null  datetime64[ns]\n",
      " 2   Call Owner Name             95874 non-null  category      \n",
      " 3   CONTACTID                   91941 non-null  object        \n",
      " 4   Call Type                   95874 non-null  category      \n",
      " 5   Call Duration (in seconds)  95791 non-null  float64       \n",
      " 6   Call Status                 95874 non-null  category      \n",
      " 7   Dialled Number              0 non-null      float64       \n",
      " 8   Outgoing Call Status        95874 non-null  category      \n",
      " 9   Scheduled in CRM            95874 non-null  category      \n",
      " 10  Tag                         0 non-null      float64       \n",
      "dtypes: category(5), datetime64[ns](1), float64(3), object(2)\n",
      "memory usage: 4.8+ MB\n"
     ]
    }
   ],
   "source": [
    "calls.info()"
   ]
  },
  {
   "cell_type": "code",
   "execution_count": 36,
   "id": "f98f93e1-dd31-4991-a255-b2cab87fc900",
   "metadata": {},
   "outputs": [
    {
     "data": {
      "text/plain": [
       "np.int64(3257)"
      ]
     },
     "execution_count": 36,
     "metadata": {},
     "output_type": "execute_result"
    }
   ],
   "source": [
    "#Removing duplicates \n",
    "calls.duplicated(subset=calls.columns[1:]).sum()"
   ]
  },
  {
   "cell_type": "code",
   "execution_count": 37,
   "id": "4625407a-f1d5-4ac9-87cf-479e7eca77b5",
   "metadata": {
    "scrolled": true
   },
   "outputs": [
    {
     "data": {
      "text/html": [
       "<div>\n",
       "<style scoped>\n",
       "    .dataframe tbody tr th:only-of-type {\n",
       "        vertical-align: middle;\n",
       "    }\n",
       "\n",
       "    .dataframe tbody tr th {\n",
       "        vertical-align: top;\n",
       "    }\n",
       "\n",
       "    .dataframe thead th {\n",
       "        text-align: right;\n",
       "    }\n",
       "</style>\n",
       "<table border=\"1\" class=\"dataframe\">\n",
       "  <thead>\n",
       "    <tr style=\"text-align: right;\">\n",
       "      <th></th>\n",
       "      <th>Id</th>\n",
       "      <th>Call Start Time</th>\n",
       "      <th>Call Owner Name</th>\n",
       "      <th>CONTACTID</th>\n",
       "      <th>Call Type</th>\n",
       "      <th>Call Duration (in seconds)</th>\n",
       "      <th>Call Status</th>\n",
       "      <th>Dialled Number</th>\n",
       "      <th>Outgoing Call Status</th>\n",
       "      <th>Scheduled in CRM</th>\n",
       "      <th>Tag</th>\n",
       "    </tr>\n",
       "  </thead>\n",
       "  <tbody>\n",
       "    <tr>\n",
       "      <th>34</th>\n",
       "      <td>5805028000001140014</td>\n",
       "      <td>2023-07-06 17:15:00</td>\n",
       "      <td>Alice Johnson</td>\n",
       "      <td>5805028000001129001</td>\n",
       "      <td>Outbound</td>\n",
       "      <td>0.0</td>\n",
       "      <td>Unattended Dialled</td>\n",
       "      <td>NaN</td>\n",
       "      <td>Completed</td>\n",
       "      <td>0.0</td>\n",
       "      <td>NaN</td>\n",
       "    </tr>\n",
       "    <tr>\n",
       "      <th>35</th>\n",
       "      <td>5805028000001167001</td>\n",
       "      <td>2023-07-06 17:15:00</td>\n",
       "      <td>Alice Johnson</td>\n",
       "      <td>5805028000001129001</td>\n",
       "      <td>Outbound</td>\n",
       "      <td>0.0</td>\n",
       "      <td>Unattended Dialled</td>\n",
       "      <td>NaN</td>\n",
       "      <td>Completed</td>\n",
       "      <td>0.0</td>\n",
       "      <td>NaN</td>\n",
       "    </tr>\n",
       "    <tr>\n",
       "      <th>101</th>\n",
       "      <td>5805028000001372054</td>\n",
       "      <td>2023-07-08 16:43:00</td>\n",
       "      <td>John Doe</td>\n",
       "      <td>NaN</td>\n",
       "      <td>Missed</td>\n",
       "      <td>0.0</td>\n",
       "      <td>Missed</td>\n",
       "      <td>NaN</td>\n",
       "      <td>Not outgoing call</td>\n",
       "      <td>Not outgoing call</td>\n",
       "      <td>NaN</td>\n",
       "    </tr>\n",
       "    <tr>\n",
       "      <th>102</th>\n",
       "      <td>5805028000001348077</td>\n",
       "      <td>2023-07-08 16:43:00</td>\n",
       "      <td>John Doe</td>\n",
       "      <td>NaN</td>\n",
       "      <td>Missed</td>\n",
       "      <td>0.0</td>\n",
       "      <td>Missed</td>\n",
       "      <td>NaN</td>\n",
       "      <td>Not outgoing call</td>\n",
       "      <td>Not outgoing call</td>\n",
       "      <td>NaN</td>\n",
       "    </tr>\n",
       "    <tr>\n",
       "      <th>254</th>\n",
       "      <td>5805028000001568042</td>\n",
       "      <td>2023-07-12 19:23:00</td>\n",
       "      <td>Jane Smith</td>\n",
       "      <td>5805028000001552025</td>\n",
       "      <td>Outbound</td>\n",
       "      <td>0.0</td>\n",
       "      <td>Unattended Dialled</td>\n",
       "      <td>NaN</td>\n",
       "      <td>Completed</td>\n",
       "      <td>0.0</td>\n",
       "      <td>NaN</td>\n",
       "    </tr>\n",
       "    <tr>\n",
       "      <th>...</th>\n",
       "      <td>...</td>\n",
       "      <td>...</td>\n",
       "      <td>...</td>\n",
       "      <td>...</td>\n",
       "      <td>...</td>\n",
       "      <td>...</td>\n",
       "      <td>...</td>\n",
       "      <td>...</td>\n",
       "      <td>...</td>\n",
       "      <td>...</td>\n",
       "      <td>...</td>\n",
       "    </tr>\n",
       "    <tr>\n",
       "      <th>95804</th>\n",
       "      <td>5805028000056832311</td>\n",
       "      <td>2024-06-21 14:17:00</td>\n",
       "      <td>Yara Edwards</td>\n",
       "      <td>NaN</td>\n",
       "      <td>Outbound</td>\n",
       "      <td>8.0</td>\n",
       "      <td>Attended Dialled</td>\n",
       "      <td>NaN</td>\n",
       "      <td>Completed</td>\n",
       "      <td>0.0</td>\n",
       "      <td>NaN</td>\n",
       "    </tr>\n",
       "    <tr>\n",
       "      <th>95833</th>\n",
       "      <td>5805028000056845313</td>\n",
       "      <td>2024-06-21 14:47:00</td>\n",
       "      <td>Ulysses Adams</td>\n",
       "      <td>5805028000026041053</td>\n",
       "      <td>Outbound</td>\n",
       "      <td>0.0</td>\n",
       "      <td>Unattended Dialled</td>\n",
       "      <td>NaN</td>\n",
       "      <td>Completed</td>\n",
       "      <td>0.0</td>\n",
       "      <td>NaN</td>\n",
       "    </tr>\n",
       "    <tr>\n",
       "      <th>95834</th>\n",
       "      <td>5805028000056873560</td>\n",
       "      <td>2024-06-21 14:47:00</td>\n",
       "      <td>Ulysses Adams</td>\n",
       "      <td>5805028000026041053</td>\n",
       "      <td>Outbound</td>\n",
       "      <td>0.0</td>\n",
       "      <td>Unattended Dialled</td>\n",
       "      <td>NaN</td>\n",
       "      <td>Completed</td>\n",
       "      <td>0.0</td>\n",
       "      <td>NaN</td>\n",
       "    </tr>\n",
       "    <tr>\n",
       "      <th>95838</th>\n",
       "      <td>5805028000056834447</td>\n",
       "      <td>2024-06-21 14:55:00</td>\n",
       "      <td>John Doe</td>\n",
       "      <td>NaN</td>\n",
       "      <td>Missed</td>\n",
       "      <td>0.0</td>\n",
       "      <td>Missed</td>\n",
       "      <td>NaN</td>\n",
       "      <td>Not outgoing call</td>\n",
       "      <td>Not outgoing call</td>\n",
       "      <td>NaN</td>\n",
       "    </tr>\n",
       "    <tr>\n",
       "      <th>95839</th>\n",
       "      <td>5805028000056892435</td>\n",
       "      <td>2024-06-21 14:55:00</td>\n",
       "      <td>John Doe</td>\n",
       "      <td>NaN</td>\n",
       "      <td>Missed</td>\n",
       "      <td>0.0</td>\n",
       "      <td>Missed</td>\n",
       "      <td>NaN</td>\n",
       "      <td>Not outgoing call</td>\n",
       "      <td>Not outgoing call</td>\n",
       "      <td>NaN</td>\n",
       "    </tr>\n",
       "  </tbody>\n",
       "</table>\n",
       "<p>6382 rows × 11 columns</p>\n",
       "</div>"
      ],
      "text/plain": [
       "                        Id     Call Start Time Call Owner Name  \\\n",
       "34     5805028000001140014 2023-07-06 17:15:00   Alice Johnson   \n",
       "35     5805028000001167001 2023-07-06 17:15:00   Alice Johnson   \n",
       "101    5805028000001372054 2023-07-08 16:43:00        John Doe   \n",
       "102    5805028000001348077 2023-07-08 16:43:00        John Doe   \n",
       "254    5805028000001568042 2023-07-12 19:23:00      Jane Smith   \n",
       "...                    ...                 ...             ...   \n",
       "95804  5805028000056832311 2024-06-21 14:17:00    Yara Edwards   \n",
       "95833  5805028000056845313 2024-06-21 14:47:00   Ulysses Adams   \n",
       "95834  5805028000056873560 2024-06-21 14:47:00   Ulysses Adams   \n",
       "95838  5805028000056834447 2024-06-21 14:55:00        John Doe   \n",
       "95839  5805028000056892435 2024-06-21 14:55:00        John Doe   \n",
       "\n",
       "                 CONTACTID Call Type  Call Duration (in seconds)  \\\n",
       "34     5805028000001129001  Outbound                         0.0   \n",
       "35     5805028000001129001  Outbound                         0.0   \n",
       "101                    NaN    Missed                         0.0   \n",
       "102                    NaN    Missed                         0.0   \n",
       "254    5805028000001552025  Outbound                         0.0   \n",
       "...                    ...       ...                         ...   \n",
       "95804                  NaN  Outbound                         8.0   \n",
       "95833  5805028000026041053  Outbound                         0.0   \n",
       "95834  5805028000026041053  Outbound                         0.0   \n",
       "95838                  NaN    Missed                         0.0   \n",
       "95839                  NaN    Missed                         0.0   \n",
       "\n",
       "              Call Status  Dialled Number Outgoing Call Status  \\\n",
       "34     Unattended Dialled             NaN            Completed   \n",
       "35     Unattended Dialled             NaN            Completed   \n",
       "101                Missed             NaN    Not outgoing call   \n",
       "102                Missed             NaN    Not outgoing call   \n",
       "254    Unattended Dialled             NaN            Completed   \n",
       "...                   ...             ...                  ...   \n",
       "95804    Attended Dialled             NaN            Completed   \n",
       "95833  Unattended Dialled             NaN            Completed   \n",
       "95834  Unattended Dialled             NaN            Completed   \n",
       "95838              Missed             NaN    Not outgoing call   \n",
       "95839              Missed             NaN    Not outgoing call   \n",
       "\n",
       "        Scheduled in CRM  Tag  \n",
       "34                   0.0  NaN  \n",
       "35                   0.0  NaN  \n",
       "101    Not outgoing call  NaN  \n",
       "102    Not outgoing call  NaN  \n",
       "254                  0.0  NaN  \n",
       "...                  ...  ...  \n",
       "95804                0.0  NaN  \n",
       "95833                0.0  NaN  \n",
       "95834                0.0  NaN  \n",
       "95838  Not outgoing call  NaN  \n",
       "95839  Not outgoing call  NaN  \n",
       "\n",
       "[6382 rows x 11 columns]"
      ]
     },
     "execution_count": 37,
     "metadata": {},
     "output_type": "execute_result"
    }
   ],
   "source": [
    "calls[calls.duplicated(keep=False, subset=calls.columns[1:])]"
   ]
  },
  {
   "cell_type": "code",
   "execution_count": 39,
   "id": "aa18bc59-41a5-4284-82d2-45cc64fea18c",
   "metadata": {},
   "outputs": [
    {
     "data": {
      "text/plain": [
       "np.int64(0)"
      ]
     },
     "execution_count": 39,
     "metadata": {},
     "output_type": "execute_result"
    }
   ],
   "source": [
    "calls.drop_duplicates(subset=calls.columns[1:], inplace=True)\n",
    "calls.duplicated(subset=calls.columns[1:]).sum()"
   ]
  },
  {
   "cell_type": "code",
   "execution_count": 40,
   "id": "5e21143d-fc9c-4ef6-a5b7-324ff56d1b21",
   "metadata": {},
   "outputs": [
    {
     "data": {
      "text/plain": [
       "Id                                0\n",
       "Call Start Time                   0\n",
       "Call Owner Name                   0\n",
       "CONTACTID                      3802\n",
       "Call Type                         0\n",
       "Call Duration (in seconds)       79\n",
       "Call Status                       0\n",
       "Dialled Number                92617\n",
       "Outgoing Call Status              0\n",
       "Scheduled in CRM                  0\n",
       "Tag                           92617\n",
       "dtype: int64"
      ]
     },
     "execution_count": 40,
     "metadata": {},
     "output_type": "execute_result"
    }
   ],
   "source": [
    "calls.isna().sum()"
   ]
  },
  {
   "cell_type": "code",
   "execution_count": 41,
   "id": "96886029-90f2-44be-a444-9d87bfa50238",
   "metadata": {},
   "outputs": [],
   "source": [
    "# Removing extra data\n",
    "calls = calls.drop(columns=['Dialled Number', 'Tag'])"
   ]
  },
  {
   "cell_type": "code",
   "execution_count": null,
   "id": "92d35d1f-5642-462a-97a9-c94f32ae6f42",
   "metadata": {
    "scrolled": true
   },
   "outputs": [],
   "source": [
    "calls.info()"
   ]
  },
  {
   "cell_type": "code",
   "execution_count": 42,
   "id": "139ad313-3cd5-4255-9bab-113f32cb9daf",
   "metadata": {},
   "outputs": [],
   "source": [
    "# Saving the updated file after cleaning\n",
    "calls.to_excel(\"Calls (Final).xlsx\", index=False)"
   ]
  }
 ],
 "metadata": {
  "kernelspec": {
   "display_name": "Python 3 (ipykernel)",
   "language": "python",
   "name": "python3"
  },
  "language_info": {
   "codemirror_mode": {
    "name": "ipython",
    "version": 3
   },
   "file_extension": ".py",
   "mimetype": "text/x-python",
   "name": "python",
   "nbconvert_exporter": "python",
   "pygments_lexer": "ipython3",
   "version": "3.13.1"
  }
 },
 "nbformat": 4,
 "nbformat_minor": 5
}
