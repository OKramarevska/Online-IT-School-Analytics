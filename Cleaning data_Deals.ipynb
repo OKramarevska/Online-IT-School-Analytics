{
 "cells": [
  {
   "cell_type": "code",
   "execution_count": 48,
   "id": "06167d5e-3d31-413b-b263-6aea99e0af2a",
   "metadata": {},
   "outputs": [],
   "source": [
    "import pandas as pd\n",
    "import numpy as np\n",
    "import seaborn as sns\n",
    "import datetime\n",
    "import matplotlib.pyplot as plt"
   ]
  },
  {
   "cell_type": "code",
   "execution_count": 49,
   "id": "7628632d-9ea4-4aa4-8381-1a62519afaf0",
   "metadata": {},
   "outputs": [
    {
     "data": {
      "text/html": [
       "<div>\n",
       "<style scoped>\n",
       "    .dataframe tbody tr th:only-of-type {\n",
       "        vertical-align: middle;\n",
       "    }\n",
       "\n",
       "    .dataframe tbody tr th {\n",
       "        vertical-align: top;\n",
       "    }\n",
       "\n",
       "    .dataframe thead th {\n",
       "        text-align: right;\n",
       "    }\n",
       "</style>\n",
       "<table border=\"1\" class=\"dataframe\">\n",
       "  <thead>\n",
       "    <tr style=\"text-align: right;\">\n",
       "      <th></th>\n",
       "      <th>Id</th>\n",
       "      <th>Deal Owner Name</th>\n",
       "      <th>Closing Date</th>\n",
       "      <th>Quality</th>\n",
       "      <th>Stage</th>\n",
       "      <th>Lost Reason</th>\n",
       "      <th>Page</th>\n",
       "      <th>Campaign</th>\n",
       "      <th>SLA</th>\n",
       "      <th>Content</th>\n",
       "      <th>...</th>\n",
       "      <th>Product</th>\n",
       "      <th>Education Type</th>\n",
       "      <th>Created Time</th>\n",
       "      <th>Course duration</th>\n",
       "      <th>Months of study</th>\n",
       "      <th>Initial Amount Paid</th>\n",
       "      <th>Offer Total Amount</th>\n",
       "      <th>Contact Name</th>\n",
       "      <th>City</th>\n",
       "      <th>Level of Deutsch</th>\n",
       "    </tr>\n",
       "  </thead>\n",
       "  <tbody>\n",
       "    <tr>\n",
       "      <th>0</th>\n",
       "      <td>5805028000056864695</td>\n",
       "      <td>Ben Hall</td>\n",
       "      <td>NaN</td>\n",
       "      <td>NaN</td>\n",
       "      <td>New Lead</td>\n",
       "      <td>NaN</td>\n",
       "      <td>/eng/test</td>\n",
       "      <td>03.07.23women</td>\n",
       "      <td>NaN</td>\n",
       "      <td>v16</td>\n",
       "      <td>...</td>\n",
       "      <td>NaN</td>\n",
       "      <td>NaN</td>\n",
       "      <td>21.06.2024 15:30</td>\n",
       "      <td>NaN</td>\n",
       "      <td>NaN</td>\n",
       "      <td>NaN</td>\n",
       "      <td>NaN</td>\n",
       "      <td>5805028000056849495</td>\n",
       "      <td>NaN</td>\n",
       "      <td>NaN</td>\n",
       "    </tr>\n",
       "    <tr>\n",
       "      <th>1</th>\n",
       "      <td>5805028000056859489</td>\n",
       "      <td>Ulysses Adams</td>\n",
       "      <td>NaN</td>\n",
       "      <td>NaN</td>\n",
       "      <td>New Lead</td>\n",
       "      <td>NaN</td>\n",
       "      <td>/at-eng</td>\n",
       "      <td>NaN</td>\n",
       "      <td>NaN</td>\n",
       "      <td>NaN</td>\n",
       "      <td>...</td>\n",
       "      <td>Web Developer</td>\n",
       "      <td>Morning</td>\n",
       "      <td>21.06.2024 15:23</td>\n",
       "      <td>6.0</td>\n",
       "      <td>NaN</td>\n",
       "      <td>0</td>\n",
       "      <td>2000</td>\n",
       "      <td>5805028000056834471</td>\n",
       "      <td>NaN</td>\n",
       "      <td>NaN</td>\n",
       "    </tr>\n",
       "    <tr>\n",
       "      <th>2</th>\n",
       "      <td>5805028000056832357</td>\n",
       "      <td>Ulysses Adams</td>\n",
       "      <td>21.06.2024</td>\n",
       "      <td>D - Non Target</td>\n",
       "      <td>Lost</td>\n",
       "      <td>Non target</td>\n",
       "      <td>/at-eng</td>\n",
       "      <td>engwien_AT</td>\n",
       "      <td>00:26:43</td>\n",
       "      <td>b1-at</td>\n",
       "      <td>...</td>\n",
       "      <td>NaN</td>\n",
       "      <td>NaN</td>\n",
       "      <td>21.06.2024 14:45</td>\n",
       "      <td>NaN</td>\n",
       "      <td>NaN</td>\n",
       "      <td>NaN</td>\n",
       "      <td>NaN</td>\n",
       "      <td>5805028000056854421</td>\n",
       "      <td>NaN</td>\n",
       "      <td>NaN</td>\n",
       "    </tr>\n",
       "    <tr>\n",
       "      <th>3</th>\n",
       "      <td>5805028000056824246</td>\n",
       "      <td>Eva Kent</td>\n",
       "      <td>21.06.2024</td>\n",
       "      <td>E - Non Qualified</td>\n",
       "      <td>Lost</td>\n",
       "      <td>Invalid number</td>\n",
       "      <td>/eng</td>\n",
       "      <td>04.07.23recentlymoved_DE</td>\n",
       "      <td>01:00:04</td>\n",
       "      <td>bloggersvideo14com</td>\n",
       "      <td>...</td>\n",
       "      <td>NaN</td>\n",
       "      <td>NaN</td>\n",
       "      <td>21.06.2024 13:32</td>\n",
       "      <td>NaN</td>\n",
       "      <td>NaN</td>\n",
       "      <td>NaN</td>\n",
       "      <td>NaN</td>\n",
       "      <td>5805028000056889351</td>\n",
       "      <td>NaN</td>\n",
       "      <td>NaN</td>\n",
       "    </tr>\n",
       "    <tr>\n",
       "      <th>4</th>\n",
       "      <td>5805028000056873292</td>\n",
       "      <td>Ben Hall</td>\n",
       "      <td>21.06.2024</td>\n",
       "      <td>D - Non Target</td>\n",
       "      <td>Lost</td>\n",
       "      <td>Non target</td>\n",
       "      <td>/eng</td>\n",
       "      <td>discovery_DE</td>\n",
       "      <td>00:53:12</td>\n",
       "      <td>website</td>\n",
       "      <td>...</td>\n",
       "      <td>NaN</td>\n",
       "      <td>NaN</td>\n",
       "      <td>21.06.2024 13:21</td>\n",
       "      <td>NaN</td>\n",
       "      <td>NaN</td>\n",
       "      <td>NaN</td>\n",
       "      <td>NaN</td>\n",
       "      <td>5805028000056876176</td>\n",
       "      <td>NaN</td>\n",
       "      <td>NaN</td>\n",
       "    </tr>\n",
       "  </tbody>\n",
       "</table>\n",
       "<p>5 rows × 23 columns</p>\n",
       "</div>"
      ],
      "text/plain": [
       "                    Id Deal Owner Name Closing Date            Quality  \\\n",
       "0  5805028000056864695        Ben Hall          NaN                NaN   \n",
       "1  5805028000056859489   Ulysses Adams          NaN                NaN   \n",
       "2  5805028000056832357   Ulysses Adams   21.06.2024     D - Non Target   \n",
       "3  5805028000056824246        Eva Kent   21.06.2024  E - Non Qualified   \n",
       "4  5805028000056873292        Ben Hall   21.06.2024     D - Non Target   \n",
       "\n",
       "      Stage     Lost Reason       Page                  Campaign       SLA  \\\n",
       "0  New Lead             NaN  /eng/test             03.07.23women       NaN   \n",
       "1  New Lead             NaN    /at-eng                       NaN       NaN   \n",
       "2      Lost      Non target    /at-eng                engwien_AT  00:26:43   \n",
       "3      Lost  Invalid number       /eng  04.07.23recentlymoved_DE  01:00:04   \n",
       "4      Lost      Non target       /eng              discovery_DE  00:53:12   \n",
       "\n",
       "              Content  ...        Product Education Type      Created Time  \\\n",
       "0                 v16  ...            NaN            NaN  21.06.2024 15:30   \n",
       "1                 NaN  ...  Web Developer        Morning  21.06.2024 15:23   \n",
       "2               b1-at  ...            NaN            NaN  21.06.2024 14:45   \n",
       "3  bloggersvideo14com  ...            NaN            NaN  21.06.2024 13:32   \n",
       "4             website  ...            NaN            NaN  21.06.2024 13:21   \n",
       "\n",
       "  Course duration Months of study Initial Amount Paid  Offer Total Amount  \\\n",
       "0             NaN             NaN                 NaN                 NaN   \n",
       "1             6.0             NaN                   0                2000   \n",
       "2             NaN             NaN                 NaN                 NaN   \n",
       "3             NaN             NaN                 NaN                 NaN   \n",
       "4             NaN             NaN                 NaN                 NaN   \n",
       "\n",
       "          Contact Name City Level of Deutsch  \n",
       "0  5805028000056849495  NaN              NaN  \n",
       "1  5805028000056834471  NaN              NaN  \n",
       "2  5805028000056854421  NaN              NaN  \n",
       "3  5805028000056889351  NaN              NaN  \n",
       "4  5805028000056876176  NaN              NaN  \n",
       "\n",
       "[5 rows x 23 columns]"
      ]
     },
     "execution_count": 49,
     "metadata": {},
     "output_type": "execute_result"
    }
   ],
   "source": [
    "deals = pd.read_excel('Deals (Done).xlsx', dtype={'Id': str, 'Contact Name': str})\n",
    "deals.head()"
   ]
  },
  {
   "cell_type": "code",
   "execution_count": 50,
   "id": "675d17bb-5cb2-4346-a266-463cc6777837",
   "metadata": {},
   "outputs": [
    {
     "name": "stdout",
     "output_type": "stream",
     "text": [
      "<class 'pandas.core.frame.DataFrame'>\n",
      "RangeIndex: 21592 entries, 0 to 21591\n",
      "Data columns (total 23 columns):\n",
      " #   Column               Non-Null Count  Dtype         \n",
      "---  ------               --------------  -----         \n",
      " 0   Id                   21592 non-null  object        \n",
      " 1   Deal Owner Name      21563 non-null  object        \n",
      " 2   Closing Date         14645 non-null  datetime64[ns]\n",
      " 3   Quality              19339 non-null  object        \n",
      " 4   Stage                21592 non-null  object        \n",
      " 5   Lost Reason          16123 non-null  object        \n",
      " 6   Page                 21592 non-null  object        \n",
      " 7   Campaign             16067 non-null  object        \n",
      " 8   SLA                  15533 non-null  object        \n",
      " 9   Content              14147 non-null  object        \n",
      " 10  Term                 12454 non-null  object        \n",
      " 11  Source               21592 non-null  object        \n",
      " 12  Payment Type         496 non-null    object        \n",
      " 13  Product              3592 non-null   object        \n",
      " 14  Education Type       3299 non-null   object        \n",
      " 15  Created Time         21592 non-null  datetime64[ns]\n",
      " 16  Course duration      3587 non-null   Int8          \n",
      " 17  Months of study      840 non-null    Int8          \n",
      " 18  Initial Amount Paid  4164 non-null   object        \n",
      " 19  Offer Total Amount   4184 non-null   object        \n",
      " 20  Contact Name         21531 non-null  object        \n",
      " 21  City                 2511 non-null   object        \n",
      " 22  Level of Deutsch     1251 non-null   object        \n",
      "dtypes: Int8(2), datetime64[ns](2), object(19)\n",
      "memory usage: 3.5+ MB\n"
     ]
    }
   ],
   "source": [
    "#Convert the data types for the updated data\n",
    "deals['Created Time'] = pd.to_datetime(deals['Created Time'],format='%d.%m.%Y %H:%M', dayfirst=True, errors='raise')\n",
    "deals['Closing Date'] = pd.to_datetime(deals['Closing Date'],format='%d.%m.%Y', dayfirst=True, errors='raise')\n",
    "deals[['Course duration', 'Months of study']] = deals[['Course duration',  'Months of study']].astype('Int8')\n",
    "deals.info()"
   ]
  },
  {
   "cell_type": "code",
   "execution_count": 51,
   "id": "d613d2b1-42da-43ca-be6d-5acdfc6e6902",
   "metadata": {},
   "outputs": [],
   "source": [
    "#Dealing with Duplicate status in the Lost Reason column"
   ]
  },
  {
   "cell_type": "code",
   "execution_count": 52,
   "id": "3a4974bb-2baf-4fd2-aa07-2264847b115f",
   "metadata": {},
   "outputs": [
    {
     "name": "stdout",
     "output_type": "stream",
     "text": [
      "Original rows: 21592\n",
      "Final rows: 21411\n",
      "Rows removed: 181\n"
     ]
    }
   ],
   "source": [
    "# Load the Excel file and ensure 'Contact Name' is treated as a clean string\n",
    "#deals = pd.read_excel('Deals (Done).xlsx', dtype={'Id': str})\n",
    "#deals['Contact Name'] = deals['Contact Name'].astype(str).str.strip()\n",
    "\n",
    "# Store the original number of rows for comparison later\n",
    "original_shape = deals.shape\n",
    "\n",
    "# Identify contact names that appear more than once in the dataset\n",
    "contact_name_ids_more_than_one = (\n",
    "    deals['Contact Name']\n",
    "    .value_counts()\n",
    "    .loc[lambda x: x > 1]\n",
    "    .index\n",
    "    .tolist()\n",
    ")\n",
    "\n",
    "# Select only deals marked as 'Lost' with the reason 'Duplicate' and a valid contact name\n",
    "filtered_df = deals[\n",
    "    (deals['Stage'] == 'Lost') &\n",
    "    (deals['Lost Reason'] == 'Duplicate') &\n",
    "    (deals['Contact Name'].notna())\n",
    "]\n",
    "\n",
    "# Keep only rows with contact names known to be duplicated\n",
    "duplicates_contact_name = filtered_df[\n",
    "    filtered_df['Contact Name'].isin(contact_name_ids_more_than_one)\n",
    "].copy()\n",
    "\n",
    "# Ensure 'Created Time' is properly parsed as datetime\n",
    "deals['Created Time'] = pd.to_datetime(deals['Created Time'], errors='coerce')\n",
    "duplicates_contact_name['Created Time'] = pd.to_datetime(\n",
    "    duplicates_contact_name['Created Time'], errors='coerce'\n",
    ")\n",
    "\n",
    "# Sort duplicates chronologically so we can retrieve first/last values consistently\n",
    "sorted_df = duplicates_contact_name.sort_values('Created Time')\n",
    "\n",
    "# Aggregate duplicated rows by 'Contact Name'\n",
    "# - For the 'Source' column: keep the first (oldest) value\n",
    "# - For all other columns: keep the last non-zero, if none then last non-null, otherwise NaN\n",
    "aggregated_contacts = sorted_df.groupby('Contact Name').agg({\n",
    "    'Source': lambda x: x.iloc[0],  # Take the first (oldest) value for 'Source'\n",
    "    \n",
    "    # Apply custom aggregation for all other columns\n",
    "    **{\n",
    "        col: lambda x: (\n",
    "            x.dropna()[x.dropna() != 0].iloc[-1]     # Take last non-zero value\n",
    "            if not x.dropna()[x.dropna() != 0].empty\n",
    "            else x.dropna().iloc[-1]                 # Otherwise last non-null\n",
    "            if not x.dropna().empty\n",
    "            else np.nan                              # Or NaN if nothing valid\n",
    "        )\n",
    "        for col in sorted_df.columns if col not in ['Contact Name', 'Source']\n",
    "    }\n",
    "}).reset_index()\n",
    "\n",
    "# Remove original duplicate rows from the dataset\n",
    "deals_cleaned = deals.drop(index=duplicates_contact_name.index)\n",
    "\n",
    "# Append the aggregated deduplicated rows back into the cleaned dataset\n",
    "deals = pd.concat([deals_cleaned, aggregated_contacts], ignore_index=True)\n",
    "\n",
    "# Compute and report the number of rows removed\n",
    "final_shape = deals.shape\n",
    "rows_removed = original_shape[0] - final_shape[0]\n",
    "\n",
    "print(f\"Original rows: {original_shape[0]}\")\n",
    "print(f\"Final rows: {final_shape[0]}\")\n",
    "print(f\"Rows removed: {rows_removed}\")"
   ]
  },
  {
   "cell_type": "code",
   "execution_count": 53,
   "id": "ff0b37f5-8b8b-41a9-9c1e-9434ae786528",
   "metadata": {},
   "outputs": [
    {
     "data": {
      "text/plain": [
       "Quality\n",
       "E - Non Qualified    7486\n",
       "D - Non Target       6228\n",
       "C - Low              3452\n",
       "B - Medium           1560\n",
       "A - High              430\n",
       "F                       2\n",
       "Name: count, dtype: int64"
      ]
     },
     "execution_count": 53,
     "metadata": {},
     "output_type": "execute_result"
    }
   ],
   "source": [
    "#Quality column\n",
    "deals['Quality'].value_counts()"
   ]
  },
  {
   "cell_type": "code",
   "execution_count": 54,
   "id": "6fcca1d4-5dcb-481f-9fa9-401c1532eff5",
   "metadata": {},
   "outputs": [
    {
     "data": {
      "text/plain": [
       "Quality\n",
       "E - Non Qualified    9741\n",
       "D - Non Target       6228\n",
       "C - Low              3452\n",
       "B - Medium           1560\n",
       "A - High              430\n",
       "Name: count, dtype: int64"
      ]
     },
     "execution_count": 54,
     "metadata": {},
     "output_type": "execute_result"
    }
   ],
   "source": [
    "deals['Quality'] = deals['Quality'].replace('F', 'E - Non Qualified')\n",
    "deals['Quality'] = deals['Quality'].fillna('E - Non Qualified')\n",
    "deals['Quality'] = deals['Quality'].astype(str)\n",
    "deals['Quality'].value_counts()"
   ]
  },
  {
   "cell_type": "code",
   "execution_count": 55,
   "id": "d3c76c06-337c-4a23-8d42-9d5885776742",
   "metadata": {},
   "outputs": [
    {
     "name": "stdout",
     "output_type": "stream",
     "text": [
      "Rows with all values missing: 0\n"
     ]
    }
   ],
   "source": [
    "# Filter empty rows\n",
    "print(\"Rows with all values missing:\", deals.isnull().all(axis=1).sum())"
   ]
  },
  {
   "cell_type": "code",
   "execution_count": 56,
   "id": "59842a1b-de51-4aac-8749-850842abb50b",
   "metadata": {},
   "outputs": [
    {
     "name": "stdout",
     "output_type": "stream",
     "text": [
      "[nan 0 1000 '€ 3.500,00' 500 100 4500 300 200 2000 11000 4000 3000 3500\n",
      " 11500 1200 1500 1 5000 600 700 350 9 400 450]\n",
      "[nan 2000 9000 11000 3500 4500 '€ 2.900,00' 6500 4000 3000 10000 2500 5000\n",
      " 11500 1 1000 1200 0 1500 '€ 11398,00' 11111 6000]\n"
     ]
    }
   ],
   "source": [
    "# Display unique values in the 'Initial Amount Paid' and 'Offer Total Amount' columns\n",
    "print(deals['Initial Amount Paid'].unique())\n",
    "print(deals['Offer Total Amount'].unique())"
   ]
  },
  {
   "cell_type": "code",
   "execution_count": 57,
   "id": "678da01b-cccf-412d-932b-8e6b33c02c8c",
   "metadata": {},
   "outputs": [
    {
     "name": "stdout",
     "output_type": "stream",
     "text": [
      "Rows where 'Initial Amount Paid' was greater than 'Offer Total Amount' and were corrected:\n",
      "       Initial Amount Paid  Offer Total Amount\n",
      "1243                2900.0              3000.0\n",
      "1351               11000.0             11500.0\n",
      "1366               11000.0             11500.0\n",
      "1397               11000.0             11500.0\n",
      "1409               11000.0             11500.0\n",
      "1441                2900.0              3000.0\n",
      "1658               11000.0             11500.0\n",
      "1920                2500.0              3000.0\n",
      "2012               11000.0             11500.0\n",
      "2272               11000.0             11500.0\n",
      "2385                3000.0              3500.0\n",
      "2700               11000.0             11500.0\n",
      "3012               11000.0             11500.0\n",
      "3189               11000.0             11500.0\n",
      "3301               11000.0             11500.0\n",
      "3795               11000.0             11500.0\n",
      "4344               11000.0             11500.0\n",
      "4457               11000.0             11500.0\n",
      "4720               11000.0             11500.0\n",
      "4972               11000.0             11500.0\n",
      "4977                3000.0              3500.0\n",
      "5095               11000.0             11500.0\n",
      "5316               11000.0             11500.0\n",
      "5777               11000.0             11500.0\n",
      "5784                3000.0              3500.0\n",
      "5905               11000.0             11500.0\n",
      "6077               11000.0             11500.0\n",
      "6161               11000.0             11500.0\n",
      "6225                2500.0              3000.0\n",
      "6465               11000.0             11500.0\n",
      "6532                3000.0              3500.0\n",
      "6568                1000.0              5000.0\n",
      "7878                3000.0              3500.0\n",
      "7957                3000.0              3500.0\n",
      "7965                3000.0              3500.0\n",
      "7982                1000.0              5000.0\n",
      "8112                3000.0              3500.0\n",
      "8320                3000.0              3500.0\n",
      "8348                3000.0              3500.0\n",
      "9084                1000.0              5000.0\n",
      "10332               3000.0              3500.0\n",
      "10592               3000.0              3500.0\n",
      "10824               3000.0              3500.0\n",
      "10979               3000.0              3500.0\n",
      "11114               3000.0              3500.0\n",
      "11262               1200.0             11000.0\n",
      "12040               1200.0             11000.0\n",
      "12998                  0.0                 9.0\n",
      "13486               1500.0             11500.0\n",
      "13521               1200.0             11000.0\n",
      "13676               3000.0              3500.0\n",
      "15092               2500.0              3000.0\n",
      "15270               2900.0              3000.0\n",
      "15280               2500.0              3000.0\n",
      "15362               1200.0             11000.0\n",
      "16875               2500.0              3000.0\n",
      "21130               2500.0              3000.0\n",
      "21225              11000.0             11500.0\n",
      "\n",
      "Sample of cleaned and corrected columns:\n",
      "   Initial Amount Paid  Offer Total Amount\n",
      "0                  NaN                 NaN\n",
      "1                  0.0              2000.0\n",
      "2                  NaN                 NaN\n",
      "3                  NaN                 NaN\n",
      "4                  NaN                 NaN\n"
     ]
    }
   ],
   "source": [
    "# Function to clean currency columns by removing symbols and converting to float\n",
    "def clean_currency_col(df, col_name):\n",
    "    df[col_name] = (\n",
    "        df[col_name]\n",
    "            # Remove the Euro symbol (€)\n",
    "            .replace(r'[€]', '', regex=True)\n",
    "            # Remove all whitespace characters\n",
    "            .replace(r'\\s+', '', regex=True)\n",
    "            # Remove dots used as thousand separators (e.g., \"3.500,00\" → \"3500,00\")\n",
    "            .replace(r'\\.', '', regex=True)\n",
    "            # Replace comma with dot to match decimal format (e.g., \"3500,00\" → \"3500.00\")\n",
    "            .replace(r',', '.', regex=True)\n",
    "            # Convert the cleaned strings to float numbers\n",
    "            .astype(float)\n",
    "    )\n",
    "    return df\n",
    "\n",
    "# Apply cleaning to both currency-related columns\n",
    "deals = clean_currency_col(deals, 'Initial Amount Paid')\n",
    "deals = clean_currency_col(deals, 'Offer Total Amount')\n",
    "\n",
    "# Create a boolean mask where the initial amount paid is greater than the offer total\n",
    "mask = deals['Initial Amount Paid'] > deals['Offer Total Amount']\n",
    "\n",
    "# Swap the values in the affected rows to maintain logical consistency\n",
    "# This corrects cases where someone accidentally entered values in the wrong columns\n",
    "deals.loc[mask, ['Initial Amount Paid', 'Offer Total Amount']] = (\n",
    "    deals.loc[mask, ['Offer Total Amount', 'Initial Amount Paid']].values\n",
    ")\n",
    "\n",
    "print(\"Rows where 'Initial Amount Paid' was greater than 'Offer Total Amount' and were corrected:\")\n",
    "print(deals[mask][['Initial Amount Paid', 'Offer Total Amount']])\n",
    "\n",
    "# Show the cleaned columns\n",
    "print(\"\\nSample of cleaned and corrected columns:\")\n",
    "print(deals[['Initial Amount Paid', 'Offer Total Amount']].head(5))"
   ]
  },
  {
   "cell_type": "code",
   "execution_count": 58,
   "id": "c485ef2d-bb8d-4c44-b499-a985b256970a",
   "metadata": {},
   "outputs": [],
   "source": [
    "deals['Initial Amount Paid'] = deals['Initial Amount Paid'].fillna('Unknown')\n",
    "deals['Offer Total Amount'] = deals['Offer Total Amount'].fillna('Unknown')"
   ]
  },
  {
   "cell_type": "code",
   "execution_count": 59,
   "id": "780c2e4f-003d-4ced-89cc-40962f1cc9f4",
   "metadata": {},
   "outputs": [
    {
     "data": {
      "text/plain": [
       "SLA in Seconds\n",
       "669.0      6\n",
       "611.0      6\n",
       "646.0      6\n",
       "1224.0     5\n",
       "1063.0     5\n",
       "          ..\n",
       "7686.0     1\n",
       "16217.0    1\n",
       "28592.0    1\n",
       "12023.0    1\n",
       "52672.0    1\n",
       "Name: count, Length: 13334, dtype: int64"
      ]
     },
     "execution_count": 59,
     "metadata": {},
     "output_type": "execute_result"
    }
   ],
   "source": [
    "# Function to convert time-like values to seconds\n",
    "def convert_to_seconds(x):\n",
    "    if pd.isna(x):\n",
    "        return np.nan\n",
    "    elif isinstance(x, datetime.time):\n",
    "        # Convert time object to total seconds\n",
    "        return x.hour * 3600 + x.minute * 60 + x.second\n",
    "    elif isinstance(x, datetime.timedelta):\n",
    "        # Convert timedelta object to total seconds\n",
    "        return x.total_seconds()\n",
    "\n",
    "# Apply conversion to a new column 'SLA Seconds'\n",
    "deals['SLA in Seconds'] = deals[\"SLA\"].apply(convert_to_seconds).round(2)\n",
    "\n",
    "# Display the count of unique values in the 'SLA Seconds' column\n",
    "deals['SLA in Seconds'].value_counts()"
   ]
  },
  {
   "cell_type": "code",
   "execution_count": 60,
   "id": "16f3a8db-df97-4445-bf4c-c8ba052adf1d",
   "metadata": {},
   "outputs": [
    {
     "name": "stdout",
     "output_type": "stream",
     "text": [
      "<class 'pandas.core.frame.DataFrame'>\n",
      "RangeIndex: 21411 entries, 0 to 21410\n",
      "Data columns (total 23 columns):\n",
      " #   Column               Non-Null Count  Dtype         \n",
      "---  ------               --------------  -----         \n",
      " 0   Id                   21411 non-null  object        \n",
      " 1   Deal Owner Name      21382 non-null  object        \n",
      " 2   Closing Date         14495 non-null  datetime64[ns]\n",
      " 3   Quality              21411 non-null  object        \n",
      " 4   Stage                21411 non-null  object        \n",
      " 5   Lost Reason          15942 non-null  object        \n",
      " 6   Page                 21411 non-null  object        \n",
      " 7   Campaign             16006 non-null  object        \n",
      " 8   Content              14101 non-null  object        \n",
      " 9   Term                 12424 non-null  object        \n",
      " 10  Source               21411 non-null  object        \n",
      " 11  Payment Type         496 non-null    object        \n",
      " 12  Product              3592 non-null   object        \n",
      " 13  Education Type       3299 non-null   object        \n",
      " 14  Created Time         21411 non-null  datetime64[ns]\n",
      " 15  Course duration      3587 non-null   Int8          \n",
      " 16  Months of study      840 non-null    Int8          \n",
      " 17  Initial Amount Paid  21411 non-null  object        \n",
      " 18  Offer Total Amount   21411 non-null  object        \n",
      " 19  Contact Name         21350 non-null  object        \n",
      " 20  City                 2511 non-null   object        \n",
      " 21  Level of Deutsch     1251 non-null   object        \n",
      " 22  SLA in Seconds       15504 non-null  float64       \n",
      "dtypes: Int8(2), datetime64[ns](2), float64(1), object(18)\n",
      "memory usage: 3.5+ MB\n"
     ]
    }
   ],
   "source": [
    "# Drop the original 'SLA' column as it's now converted\n",
    "deals.drop(columns=['SLA'], inplace=True)\n",
    "deals.info()"
   ]
  },
  {
   "cell_type": "code",
   "execution_count": 61,
   "id": "cef73b14-401c-4039-a54a-08d88a5c5642",
   "metadata": {},
   "outputs": [
    {
     "name": "stdout",
     "output_type": "stream",
     "text": [
      "Number of missing values after filling:\n",
      "City                18146\n",
      "Level of Deutsch    19756\n",
      "dtype: int64\n"
     ]
    }
   ],
   "source": [
    "# Fill missing values in the 'City' column based on the most frequent value (mode)\n",
    "# for each contact in the 'Contact Name' column\n",
    "\n",
    "mode_values = deals.groupby('Contact Name')['City'] \\\n",
    "    .agg(lambda x: x.mode()[0] if not x.mode().empty else None)\n",
    "\n",
    "# Map the most frequent city for each contact back to the 'City' column\n",
    "deals['City'] = deals['Contact Name'].map(mode_values)\n",
    "\n",
    "# Fill missing values in the 'Level of Deutsch' column based on the most frequent value per contact\n",
    "mode_values = deals.groupby('Contact Name')['Level of Deutsch'] \\\n",
    "    .agg(lambda x: x.mode()[0] if not x.mode().empty else None)\n",
    "\n",
    "# Map the most frequent language level for each contact back to the 'Level of Deutsch' column\n",
    "deals['Level of Deutsch'] = deals['Contact Name'].map(mode_values)\n",
    "\n",
    "print(\"Number of missing values after filling:\")\n",
    "print(deals[['City', 'Level of Deutsch']].isna().sum())"
   ]
  },
  {
   "cell_type": "code",
   "execution_count": 62,
   "id": "f053cb1b-e609-4a0b-87b1-959604d9a78d",
   "metadata": {},
   "outputs": [
    {
     "data": {
      "text/plain": [
       "array(['Not defined', 'B1', 'A2', 'B2', 'А2-В1', 'A0', 'C2', 'C1', 'A1',\n",
       "       'B1-B2'], dtype=object)"
      ]
     },
     "execution_count": 62,
     "metadata": {},
     "output_type": "execute_result"
    }
   ],
   "source": [
    "replace_dict = {\n",
    "    'в1': 'B1', 'б1': 'B1', 'b1': 'B1', 'B1': 'B1', 'в1-в2': 'B1',\n",
    "    'B2': 'B2', 'C2': 'C2', 'с1': 'C1', 'Б1': 'B1', 'а2': 'A2', 'а1': 'A1',\n",
    "    'а0': 'A0','б2': 'B2', 'Б2': 'B2', 'В1': 'B1', 'А2': 'A2',\n",
    "    'B1 будет в феврале 2025': 'A2',\n",
    "    'Detmold, Paulinenstraße 95, 32756': 'Not defined',\n",
    "    'Сам оценивает на B2, 13 лет живет в Германии': 'B2',\n",
    "    'в2': 'B2', 'В1-В2': 'B1', 'Б1 ( ждет Б2)': 'B1', 'В1': 'B1',\n",
    "    'lэкзамен - 6 июля на В1. курсы вечером (но уверенно говорит на B1)': 'B1',\n",
    "    'Гражданка Германии уже год в Германии Учит немецкий и в сентябре b1 через гос-во проходит, а не через ДЖЦ, вечером учится 3 р в неделю с 18 до 21': 'B1',\n",
    "    '-': 'A0', 'А2 ( Б1 в июне)': 'A2', 'B1 в процессе обучения': 'A2','ЯЗ: нем В1 был экз 03.05 повтор и сейчас ждет результаты. Технический англ был. А1 сейчас. ОБР: 2 во информационные и комп сети - инженер системоте': 'B1',\n",
    "    'В1 в сентябре': 'A2', 'Нет': 'Not defined', 'С1': 'C1', 0: 'A0',\n",
    "    'Ждем B1': 'B1', 'А1 сертиф, но по факту А2': 'A2', 'a2': 'A2',\n",
    "    'Пока А2, сдает 17 05 B1': 'A2',\n",
    "    'окончание 13.06 курса на b1': 'A2', 'A1': 'A1', 'b2': 'B2',\n",
    "    'Thorn-Prikker-Str. 30, Hagen, 58093': 'Not defined',\n",
    "    'В2': 'B2', 'нулевой уровень, только пошел на курсы.': 'A0', 'ая в1': 'B1',\n",
    "    'Ждет результат по B1': 'B1', 'А2( ждет итоги Б!)': 'A2',\n",
    "    'b1 экзамен будет 12 апреля': 'B1','b1 (b2 ждет серт)': 'B1', 'С2': 'C2',\n",
    "    'ждем B1': 'B1', 'Paderborn 33102, Schwabenweg 10': 'Not defined',\n",
    "    'b1 (B2 ждет серт)': 'B1', 'Ждем B1 со дня на день': 'B1',\n",
    "    'Б2 ( учит С1)': 'B2','B1 еще нет результата': 'A2',\n",
    "    '31.05.2024': 'Not defined',\n",
    "    'Lichtenfelser Straße 25, Untersiemau 96253': 'Not defined',\n",
    "    'Учиться до сентября на B1': 'B1', 'b1 9ждет экзамен)': 'B1',\n",
    "    'b1+': 'B1', 'гражданка': 'Not defined',\n",
    "    'b1 (ждет результат)': 'B1', 'Б1 (учит Б2)': 'B1', 'б2+': 'B2',\n",
    "    'Гражданин': 'B2','25 лет живет в Германии': 'C1', 'С1 -ая , Ня -а1': 'C1',\n",
    "    'Ждем результат по B1': 'B1', 'b1 (b2 в июле экзамен)': 'B1',\n",
    "    'Ждет со дня на день В1': 'B1',\n",
    "    'А2 (В1 с 3 раза не сдала, бератер видела наши доки)': 'A2',\n",
    "    'b1 (ждет результаты)': 'B1','А2 ( повтор на Б1)': 'A2',\n",
    "    'B1, сдает B2 в апреле': 'B1', 'ждет сертификат B1': 'B1',\n",
    "    'Б2( 16.02 экзамен С1)': 'B2', 'А1-А2': 'A1',\n",
    "    'b1 ждет серт на днях на руки': 'B1',\n",
    "    'b1 24 февраля экзамен, англ b2': 'B1',\n",
    "    'А2 ( скоро екзамен)': 'A2', 'B1 (ждет результаты В2)': 'B1',\n",
    "    'b1 (b2 15 марта экзамен)': 'B1', 'b2 (с1 экзамен 16 февраля)': 'B2',\n",
    "    'Б1 ( ждет итог Б2)': 'B1','не сдавал, но гражданин': 'Not defined',\n",
    "    'Нет сертификатов, но есть С1 англ, неоконченное высшее в ИТ (и еще одно высшее юридическое) , очень хочет в ИТ, сильно замотивирована именно н': 'Not defined',\n",
    "    'А2, в процессе Б1': 'A2', 'A0': 'A0', 'А2(Б1 в марте экз)': 'A2',\n",
    "    'учит A2': 'A2', 'Б1 ( проходит Б2)': 'B1', 'Б1 ( ждет итог )': 'B1',\n",
    "    'НЯ - В1, АЯ - В1': 'B1','б1 (ждет рез-тат)': 'B1',\n",
    "    'А2(ждет итоги Б1)': 'A2', 'в1-ня , в1-ая': 'B1',\n",
    "    'ня-0, но англ B2+': 'A0', 'В': 'B1', 'будет B1 в июне': 'B1',\n",
    "    'А2( включили нем в ангебот)': 'A2', 'а2-в1': 'A2', 'в2-с1': 'B2',\n",
    "    'курс А2-В1 - сдача в июле, но вечерняя смена инт курсов, настроен получить гутшайн уже сейчас.': 'A2',\n",
    "    'B1 (B2 должна до конца февраля получить)': 'B1',\n",
    "    'b1 (b2 экзамен 6 февраля)': 'B1', 'A1-A2': 'A1',\n",
    "    'Б1( может будет)': 'B1', 'А2 ( в процессе Б1)': 'A2',\n",
    "    'b1 ждет результаты': 'B1', 'b1 ждет экзамен в феврале': 'B1',\n",
    "    'В1, может уже В2?': 'B1',\n",
    "    'A2 (идет доучивать В1 - 300 часов; предположительно до августа)': 'A2',\n",
    "    'не учил': 'A0','Без 5 минут B1 (ждет результаты экзамена)': 'B1',\n",
    "    'а1-а2 , ая свободный': 'A1', 'b2-c2': 'B2','а2, англ B1': 'A2',\n",
    "    'А1': 'A1', 'А2 нем -В2 англ': 'A2', 'Проходит сейчас B1': 'B1',\n",
    "    'Ждет результат по B1 в феврале': 'B1', 'Проходит сейчас повторно B1': 'B1',\n",
    "    'b1 экзамен в феврале': 'B1',\n",
    "    'Учиться на B1 во вторую смену, в первую хочет получить одобрение на обучение у нас': 'B1',\n",
    "    'Б10Б2': 'B2', 'Б1?': 'B1', 'B1 есть, ждем B2 в конце месяца': 'B1',\n",
    "    'B1-B2': 'B1','?': 'Not defined', 'b1 экзамен 26 января': 'A2',\n",
    "    'А0': 'A0', 'а2 (б1 в сер января)': 'A2','f2': 'A2',\n",
    "    'Учиться на B1': 'A2',\n",
    "    'Сдала экзамен на B1, ждет в начале февраля результат': 'B1',\n",
    "    'Сдавал 8 12 на B1 - ждет результат. 3 01 - аплейт - получил B1!': 'B1',\n",
    "    'Б1-Б2': 'B1','б1 (до июля на В2)': 'B1',\n",
    "    'А2 ( Б1 март )': 'A2', 'А2 (весной - еще 300 часов В1)': 'A2',\n",
    "    'В январе будут результаты по экзамену на B1': 'B1',\n",
    "    'б2 (с1 ждет рез-тат)': 'B2',\n",
    "    'ня-0, ая-B1': 'A0', 'А2-Б1': 'A2',\n",
    "    'B1 (почти, не сдала чуть) + англ В1': 'B1',\n",
    "    'в1 ждем результаты': 'B1', 'А2 ( хочет просить совмещать)': 'A2',\n",
    "    'B1 (ждет результаты)': 'B1', 'А2+': 'A2',\n",
    "    'а2 (сдавала экз В1, но не сдала похоже)': 'A2', 'в1, идет на в2': 'B1',\n",
    "    'b2-c1': 'B2', 'C1': 'C1', 'b1-b2': 'B1',\n",
    "    'не учила ( разговорный) сразу пошла работать': 'B2',\n",
    "    'Б1 ( проходит Б2 )': 'B1', 'a0-a1': 'A0',\n",
    "    'Б1 ( был екзамен ждет итог )': 'B1',\n",
    "    'Б2-С1': 'B2', 'b1 (учила, но не сдала В2)': 'B1',\n",
    "    'ня а2, ая в1': 'A2',\n",
    "    'A2 (идет на В1)': 'A2', 'B2-C2': 'B2',\n",
    "    'немецкий - а1-а2, англ b1-b2': 'A2',\n",
    "    'B2+': 'B2', 'в1, еще нет сертификата': 'B1', 'б1-б2': 'B1', 'Бй': 'B1',\n",
    "    'ждет результаты по B1 экзамену': 'B1', 'b2 (ждет серт)': 'B2',\n",
    "    'никакой': 'A0','в1 , хочет совмещать с в2': 'B1',\n",
    "    90: 'Not defined', '.': 'Not defined', 'в1 (уже сдала В2)': 'B2',\n",
    "    'b1 результат экзамена в феврале': 'B1',\n",
    "    'в1 , экзамен на в2 15 декабря': 'B1', 'идет на А1': 'A1',\n",
    "    'УТОЧНИТЬ!': 'Not defined','B2 (говорит без проблем - давно здесь)': 'B2',\n",
    "    'B1 (до февраля)': 'B1','А2 ( Б2 в процессе)': 'B1', 'C': 'C1',\n",
    "    'б1 заканчивает': 'B1', 'B1 (B2 экзамен в январе)': 'B1',\n",
    "    '5 июля 2024 сдает экз на В2': 'B2', 'А2 (заканчив В1 в июне)': 'A2',\n",
    "    'a2-б1': 'A2', 'В1?': 'B1',\n",
    "    'b1 будет в январе экзамен, готов совмещать': 'B1',\n",
    "    'b1 (b2 экзамен 2 марта)': 'B1-B2', 'B1 немецкий и английский Advance': 'B1',\n",
    "    'A': 'A1', 'a2 (b1 экзамен 15 июня)': 'A2',\n",
    "    'B2 (ждет итог экзамена)': 'B2',\n",
    "    'b1 (b2 не сдал экзамен)': 'B1', 'В1 (учится на В2 до авг.': 'B1',\n",
    "    'В2 - не сдал': 'B2', 'B2+ (не сдавал, но говорит)': 'B2',\n",
    "    'b1 (ждет серт)': 'B1',\n",
    "    'B1 вроде был (18 лет назад сдавал)': 'B1',\n",
    "    'А2 (сдает B1 - 12 дек) - не сдал!': 'A2',\n",
    "    'УТОЧНИТЬ': 'Not defined', 'b2 ждет серт': 'B2',\n",
    "    'разговорный из украины, без сертификата': 'B2',\n",
    "    'Ждет B1': 'B1', 'сдавала А2 в сентябре': 'A2',\n",
    "    'В1, учится на В2 до няоб 24': 'B1',\n",
    "    'Б1 ( ждет результат Б2)': 'B1',\n",
    "    'точно уровень не знаю, но говорить могу - учила сама': 'B2',\n",
    "    'А2-В1 учит': 'A2', 'В1 (учится на В2 уже)': 'B1',\n",
    "    'В январе - В2 сдает': 'B2',\n",
    "    'b1 должна получить результаты в феврале': 'B1'\n",
    "}\n",
    "deals['Level of Deutsch'] = deals['Level of Deutsch'].astype('object')\\\n",
    "    .replace(replace_dict).fillna(\"Not defined\")\n",
    "deals['Level of Deutsch'].unique()     "
   ]
  },
  {
   "cell_type": "code",
   "execution_count": 63,
   "id": "3ac0c1f6-b702-448e-b4c6-cd34ff0051a2",
   "metadata": {},
   "outputs": [
    {
     "data": {
      "text/plain": [
       "array(['Not defined', 'B1', 'A2', 'B2', 'A0', 'C2', 'C1', 'A1'],\n",
       "      dtype=object)"
      ]
     },
     "execution_count": 63,
     "metadata": {},
     "output_type": "execute_result"
    }
   ],
   "source": [
    "replace_double = {'А2-В1':'A2', 'B1-B2': 'B1'}\n",
    "deals['Level of Deutsch'] = deals['Level of Deutsch']\\\n",
    "                              .replace(replace_double)\n",
    "deals['Level of Deutsch'].unique()    "
   ]
  },
  {
   "cell_type": "code",
   "execution_count": 64,
   "id": "5b789007-fafd-4b31-a0ba-abe9f15560f6",
   "metadata": {},
   "outputs": [
    {
     "data": {
      "text/plain": [
       "Level of Deutsch\n",
       "Not defined    19797\n",
       "B1              1072\n",
       "B2               229\n",
       "A2               218\n",
       "C1                36\n",
       "A1                28\n",
       "A0                27\n",
       "C2                 4\n",
       "Name: count, dtype: int64"
      ]
     },
     "execution_count": 64,
     "metadata": {},
     "output_type": "execute_result"
    }
   ],
   "source": [
    "deals['Level of Deutsch'].value_counts()"
   ]
  },
  {
   "cell_type": "code",
   "execution_count": 65,
   "id": "f2a35d4d-d4b7-47dd-a86c-257759f33896",
   "metadata": {},
   "outputs": [
    {
     "name": "stdout",
     "output_type": "stream",
     "text": [
      "City                0\n",
      "Level of Deutsch    0\n",
      "dtype: int64\n"
     ]
    }
   ],
   "source": [
    "# Correct city replacement dictionary\n",
    "replace_dict_city = {\n",
    "    'Vor Ebersbach 1, 77761 Schiltach': 'Schiltach',\n",
    "    'Poland , Gdansk , Al. Grunwaldzka 7, ap. 1a': 'Gdansk',\n",
    "    'Karl-Liebknecht str. 24, Hildburghausen, Thüringen': 'Hildburghausen',\n",
    "    '-': 'Unknown'\n",
    "}\n",
    "\n",
    "# Replace full address strings with city names and fill missing values\n",
    "deals['City'] = deals['City'].replace(replace_dict_city).fillna(\"Not defined\")\n",
    "print(deals[['City', 'Level of Deutsch']].isna().sum())"
   ]
  },
  {
   "cell_type": "code",
   "execution_count": 66,
   "id": "0efaa137-89e4-4f96-8825-af517093ae6e",
   "metadata": {},
   "outputs": [],
   "source": [
    "# Course duration, Product, Deal Owner Name, Contact Name columns cleaning"
   ]
  },
  {
   "cell_type": "code",
   "execution_count": 67,
   "id": "b26f473e-3048-4d06-afca-7aea9b873f28",
   "metadata": {},
   "outputs": [
    {
     "data": {
      "text/plain": [
       "Course duration\n",
       "11    3012\n",
       "6      575\n",
       "Name: count, dtype: Int64"
      ]
     },
     "execution_count": 67,
     "metadata": {},
     "output_type": "execute_result"
    }
   ],
   "source": [
    "deals['Course duration'].value_counts()"
   ]
  },
  {
   "cell_type": "code",
   "execution_count": 68,
   "id": "cd45399e-a89c-4f29-898f-1a43b1998c7e",
   "metadata": {},
   "outputs": [
    {
     "data": {
      "text/html": [
       "<div>\n",
       "<style scoped>\n",
       "    .dataframe tbody tr th:only-of-type {\n",
       "        vertical-align: middle;\n",
       "    }\n",
       "\n",
       "    .dataframe tbody tr th {\n",
       "        vertical-align: top;\n",
       "    }\n",
       "\n",
       "    .dataframe thead th {\n",
       "        text-align: right;\n",
       "    }\n",
       "</style>\n",
       "<table border=\"1\" class=\"dataframe\">\n",
       "  <thead>\n",
       "    <tr style=\"text-align: right;\">\n",
       "      <th></th>\n",
       "      <th>Product</th>\n",
       "      <th>Course duration</th>\n",
       "    </tr>\n",
       "  </thead>\n",
       "  <tbody>\n",
       "    <tr>\n",
       "      <th>0</th>\n",
       "      <td>Data Analytics</td>\n",
       "      <td>&lt;NA&gt;</td>\n",
       "    </tr>\n",
       "    <tr>\n",
       "      <th>1</th>\n",
       "      <td>Digital Marketing</td>\n",
       "      <td>11</td>\n",
       "    </tr>\n",
       "    <tr>\n",
       "      <th>2</th>\n",
       "      <td>Find yourself in IT</td>\n",
       "      <td>&lt;NA&gt;</td>\n",
       "    </tr>\n",
       "    <tr>\n",
       "      <th>3</th>\n",
       "      <td>UX/UI Design</td>\n",
       "      <td>11</td>\n",
       "    </tr>\n",
       "    <tr>\n",
       "      <th>4</th>\n",
       "      <td>Web Developer</td>\n",
       "      <td>6</td>\n",
       "    </tr>\n",
       "  </tbody>\n",
       "</table>\n",
       "</div>"
      ],
      "text/plain": [
       "               Product  Course duration\n",
       "0       Data Analytics             <NA>\n",
       "1    Digital Marketing               11\n",
       "2  Find yourself in IT             <NA>\n",
       "3         UX/UI Design               11\n",
       "4        Web Developer                6"
      ]
     },
     "execution_count": 68,
     "metadata": {},
     "output_type": "execute_result"
    }
   ],
   "source": [
    "# 1. Calculate the mode (most frequent value) of 'Course duration' for each 'Product'\n",
    "mode_duration = deals.groupby('Product', observed=False)['Course duration'] \\\n",
    "    .agg(lambda x: x.mode()[0] if not x.mode().empty else None).reset_index()\n",
    "mode_duration"
   ]
  },
  {
   "cell_type": "code",
   "execution_count": 69,
   "id": "a38f15fd-80cf-4309-8c32-2d73d78780b2",
   "metadata": {},
   "outputs": [
    {
     "data": {
      "text/plain": [
       "Product\n",
       "Digital Marketing      1990\n",
       "UX/UI Design           1022\n",
       "Web Developer           575\n",
       "Find yourself in IT       4\n",
       "Data Analytics            1\n",
       "Name: count, dtype: int64"
      ]
     },
     "execution_count": 69,
     "metadata": {},
     "output_type": "execute_result"
    }
   ],
   "source": [
    "product_counts = deals['Product'].value_counts()\n",
    "product_counts"
   ]
  },
  {
   "cell_type": "code",
   "execution_count": 70,
   "id": "4605b258-d22e-4347-9da6-676e1b72d6ed",
   "metadata": {},
   "outputs": [
    {
     "data": {
      "text/plain": [
       "Course duration\n",
       "0     17824\n",
       "11     3012\n",
       "6       575\n",
       "Name: count, dtype: Int64"
      ]
     },
     "execution_count": 70,
     "metadata": {},
     "output_type": "execute_result"
    }
   ],
   "source": [
    "deals['Course duration'] = deals['Course duration'].fillna(0)\n",
    "deals['Course duration'].value_counts()"
   ]
  },
  {
   "cell_type": "code",
   "execution_count": 71,
   "id": "37b04839-290b-4c05-84f3-61e84b176f8d",
   "metadata": {},
   "outputs": [
    {
     "data": {
      "text/plain": [
       "Course duration\n",
       "0     17824\n",
       "11     3012\n",
       "6       575\n",
       "Name: count, dtype: Int64"
      ]
     },
     "execution_count": 71,
     "metadata": {},
     "output_type": "execute_result"
    }
   ],
   "source": [
    "deals.loc[(deals['Product'] == 'Web developer') & (deals['Course duration'] == 0), 'Course duration'] = 6\n",
    "deals.loc[(deals['Product'] == 'UX/UI') & (deals['Course duration'] == 0), 'Course duration'] = 11\n",
    "deals.loc[(deals['Product'] == 'Digital Marketing') & (deals['Course duration'] == 0), 'Course duration'] = 11\n",
    "\n",
    "deals['Course duration'].value_counts()"
   ]
  },
  {
   "cell_type": "code",
   "execution_count": 72,
   "id": "127e190a-5c53-4f1e-8a42-0d3c15bdcd97",
   "metadata": {},
   "outputs": [],
   "source": [
    "deals['Product'] = deals['Product'].fillna('Not specified')"
   ]
  },
  {
   "cell_type": "code",
   "execution_count": 73,
   "id": "00189e5b-caae-42cb-abfe-e6e7fe094b69",
   "metadata": {},
   "outputs": [
    {
     "data": {
      "text/plain": [
       "Product\n",
       "Not specified          17819\n",
       "Digital Marketing       1990\n",
       "UX/UI Design            1022\n",
       "Web Developer            575\n",
       "Find yourself in IT        4\n",
       "Data Analytics             1\n",
       "Name: count, dtype: int64"
      ]
     },
     "execution_count": 73,
     "metadata": {},
     "output_type": "execute_result"
    }
   ],
   "source": [
    "deals['Product'].value_counts()"
   ]
  },
  {
   "cell_type": "code",
   "execution_count": 74,
   "id": "cd9c0210-da49-4950-a597-932d3e9b1314",
   "metadata": {},
   "outputs": [
    {
     "data": {
      "text/plain": [
       "Deal Owner Name\n",
       "Charlie Davis      2929\n",
       "Julia Nelson       2196\n",
       "Ulysses Adams      2150\n",
       "Quincy Vincent     1878\n",
       "Paula Underwood    1855\n",
       "Ben Hall           1344\n",
       "Nina Scott         1280\n",
       "Victor Barnes      1229\n",
       "Cara Iverson       1055\n",
       "Diana Evans         998\n",
       "Jane Smith          981\n",
       "Rachel White        868\n",
       "Kevin Parker        556\n",
       "Ian Miller          489\n",
       "Eva Kent            459\n",
       "Bob Brown           327\n",
       "Mason Roberts       268\n",
       "Oliver Taylor       163\n",
       "George King          94\n",
       "Yara Edwards         84\n",
       "Sam Young            66\n",
       "Amy Green            63\n",
       "Not Speicified       29\n",
       "Alice Johnson        25\n",
       "John Doe             19\n",
       "Xander Dean           3\n",
       "Wendy Clark           2\n",
       "Zachary Foster        1\n",
       "Name: count, dtype: int64"
      ]
     },
     "execution_count": 74,
     "metadata": {},
     "output_type": "execute_result"
    }
   ],
   "source": [
    "deals['Deal Owner Name'] = deals['Deal Owner Name'].fillna('Not Speicified')\n",
    "deals['Deal Owner Name'].value_counts()"
   ]
  },
  {
   "cell_type": "code",
   "execution_count": 75,
   "id": "9c90485f-6d6d-45ad-8626-3f0852df5fa4",
   "metadata": {},
   "outputs": [],
   "source": [
    "deals['Contact Name'] = deals['Contact Name'].fillna('Unknown')"
   ]
  },
  {
   "cell_type": "code",
   "execution_count": 76,
   "id": "dc7f73cf-b8f1-42fb-825d-8446e8471159",
   "metadata": {},
   "outputs": [
    {
     "data": {
      "text/html": [
       "<div>\n",
       "<style scoped>\n",
       "    .dataframe tbody tr th:only-of-type {\n",
       "        vertical-align: middle;\n",
       "    }\n",
       "\n",
       "    .dataframe tbody tr th {\n",
       "        vertical-align: top;\n",
       "    }\n",
       "\n",
       "    .dataframe thead th {\n",
       "        text-align: right;\n",
       "    }\n",
       "</style>\n",
       "<table border=\"1\" class=\"dataframe\">\n",
       "  <thead>\n",
       "    <tr style=\"text-align: right;\">\n",
       "      <th></th>\n",
       "      <th>Id</th>\n",
       "      <th>Deal Owner Name</th>\n",
       "      <th>Closing Date</th>\n",
       "      <th>Quality</th>\n",
       "      <th>Stage</th>\n",
       "      <th>Lost Reason</th>\n",
       "      <th>Page</th>\n",
       "      <th>Campaign</th>\n",
       "      <th>Content</th>\n",
       "      <th>Term</th>\n",
       "      <th>...</th>\n",
       "      <th>Education Type</th>\n",
       "      <th>Created Time</th>\n",
       "      <th>Course duration</th>\n",
       "      <th>Months of study</th>\n",
       "      <th>Initial Amount Paid</th>\n",
       "      <th>Offer Total Amount</th>\n",
       "      <th>Contact Name</th>\n",
       "      <th>City</th>\n",
       "      <th>Level of Deutsch</th>\n",
       "      <th>SLA in Seconds</th>\n",
       "    </tr>\n",
       "  </thead>\n",
       "  <tbody>\n",
       "  </tbody>\n",
       "</table>\n",
       "<p>0 rows × 23 columns</p>\n",
       "</div>"
      ],
      "text/plain": [
       "Empty DataFrame\n",
       "Columns: [Id, Deal Owner Name, Closing Date, Quality, Stage, Lost Reason, Page, Campaign, Content, Term, Source, Payment Type, Product, Education Type, Created Time, Course duration, Months of study, Initial Amount Paid, Offer Total Amount, Contact Name, City, Level of Deutsch, SLA in Seconds]\n",
       "Index: []\n",
       "\n",
       "[0 rows x 23 columns]"
      ]
     },
     "execution_count": 76,
     "metadata": {},
     "output_type": "execute_result"
    }
   ],
   "source": [
    "# Checking if removing duplicates is still needed\n",
    "deals[deals.duplicated()]"
   ]
  },
  {
   "cell_type": "code",
   "execution_count": 77,
   "id": "90efcacf-271f-482b-8b4a-990e72c6d25f",
   "metadata": {},
   "outputs": [
    {
     "data": {
      "text/plain": [
       "np.int64(0)"
      ]
     },
     "execution_count": 77,
     "metadata": {},
     "output_type": "execute_result"
    }
   ],
   "source": [
    "deals.duplicated().sum()"
   ]
  },
  {
   "cell_type": "code",
   "execution_count": 78,
   "id": "d92f76e3-e054-4dcf-ac70-5cd3adc0bfa2",
   "metadata": {},
   "outputs": [
    {
     "data": {
      "text/html": [
       "<div>\n",
       "<style scoped>\n",
       "    .dataframe tbody tr th:only-of-type {\n",
       "        vertical-align: middle;\n",
       "    }\n",
       "\n",
       "    .dataframe tbody tr th {\n",
       "        vertical-align: top;\n",
       "    }\n",
       "\n",
       "    .dataframe thead th {\n",
       "        text-align: right;\n",
       "    }\n",
       "</style>\n",
       "<table border=\"1\" class=\"dataframe\">\n",
       "  <thead>\n",
       "    <tr style=\"text-align: right;\">\n",
       "      <th></th>\n",
       "      <th>Product</th>\n",
       "      <th>Offer Total Amount</th>\n",
       "    </tr>\n",
       "  </thead>\n",
       "  <tbody>\n",
       "    <tr>\n",
       "      <th>0</th>\n",
       "      <td>Data Analytics</td>\n",
       "      <td>6000.0</td>\n",
       "    </tr>\n",
       "    <tr>\n",
       "      <th>1</th>\n",
       "      <td>Digital Marketing</td>\n",
       "      <td>11000.0</td>\n",
       "    </tr>\n",
       "    <tr>\n",
       "      <th>2</th>\n",
       "      <td>Find yourself in IT</td>\n",
       "      <td>0.0</td>\n",
       "    </tr>\n",
       "    <tr>\n",
       "      <th>3</th>\n",
       "      <td>Not specified</td>\n",
       "      <td>Unknown</td>\n",
       "    </tr>\n",
       "    <tr>\n",
       "      <th>4</th>\n",
       "      <td>UX/UI Design</td>\n",
       "      <td>11000.0</td>\n",
       "    </tr>\n",
       "    <tr>\n",
       "      <th>5</th>\n",
       "      <td>Web Developer</td>\n",
       "      <td>5000.0</td>\n",
       "    </tr>\n",
       "  </tbody>\n",
       "</table>\n",
       "</div>"
      ],
      "text/plain": [
       "               Product Offer Total Amount\n",
       "0       Data Analytics             6000.0\n",
       "1    Digital Marketing            11000.0\n",
       "2  Find yourself in IT                0.0\n",
       "3        Not specified            Unknown\n",
       "4         UX/UI Design            11000.0\n",
       "5        Web Developer             5000.0"
      ]
     },
     "execution_count": 78,
     "metadata": {},
     "output_type": "execute_result"
    }
   ],
   "source": [
    "#Calculate the mode (most frequent value) of Offer Total Amount for each Product\n",
    "mode_amount = deals.groupby('Product', observed=False)['Offer Total Amount'] \\\n",
    "    .agg(lambda x: x.mode()[0] if not x.mode().empty else None).reset_index()\n",
    "mode_amount"
   ]
  },
  {
   "cell_type": "code",
   "execution_count": 79,
   "id": "69332445-e281-4bd1-bc95-3eb81d5add0f",
   "metadata": {},
   "outputs": [
    {
     "name": "stdout",
     "output_type": "stream",
     "text": [
      "               Product  total_rows  missing_rows\n",
      "0       Data Analytics           1             0\n",
      "1    Digital Marketing        1990             0\n",
      "2  Find yourself in IT           4             0\n",
      "3        Not specified       17819             0\n",
      "4         UX/UI Design        1022             0\n",
      "5        Web Developer         575             0\n"
     ]
    }
   ],
   "source": [
    "# Group by 'Product' and calculate total and missing counts of 'Offer Total Amount'\n",
    "offer_summary = deals.groupby('Product', observed=False).agg(\n",
    "    total_rows=('Offer Total Amount', 'size'),                        # Total entries per product\n",
    "    missing_rows=('Offer Total Amount', lambda x: x.isna().sum())     # Missing values per product\n",
    ").reset_index()\n",
    "\n",
    "# Sort by missing count for better readability\n",
    "offer_summary = offer_summary.sort_values(by='missing_rows', ascending=False)\n",
    "\n",
    "# Display the result\n",
    "print(offer_summary)"
   ]
  },
  {
   "cell_type": "code",
   "execution_count": 80,
   "id": "0938c0c7-4746-47b4-9918-59576188813b",
   "metadata": {},
   "outputs": [
    {
     "name": "stdout",
     "output_type": "stream",
     "text": [
      "                    Id Deal Owner Name Closing Date            Quality  \\\n",
      "0  5805028000056864695        Ben Hall          NaT  E - Non Qualified   \n",
      "1  5805028000056859489   Ulysses Adams          NaT  E - Non Qualified   \n",
      "2  5805028000056832357   Ulysses Adams   2024-06-21     D - Non Target   \n",
      "3  5805028000056824246        Eva Kent   2024-06-21  E - Non Qualified   \n",
      "4  5805028000056873292        Ben Hall   2024-06-21     D - Non Target   \n",
      "\n",
      "      Stage     Lost Reason       Page                  Campaign  \\\n",
      "0  New Lead             NaN  /eng/test             03.07.23women   \n",
      "1  New Lead             NaN    /at-eng                       NaN   \n",
      "2      Lost      Non target    /at-eng                engwien_AT   \n",
      "3      Lost  Invalid number       /eng  04.07.23recentlymoved_DE   \n",
      "4      Lost      Non target       /eng              discovery_DE   \n",
      "\n",
      "              Content           Term  ... Education Type        Created Time  \\\n",
      "0                 v16          women  ...            NaN 2024-06-21 15:30:00   \n",
      "1                 NaN            NaN  ...        Morning 2024-06-21 15:23:00   \n",
      "2               b1-at     21_06_2024  ...            NaN 2024-06-21 14:45:00   \n",
      "3  bloggersvideo14com  recentlymoved  ...            NaN 2024-06-21 13:32:00   \n",
      "4             website            NaN  ...            NaN 2024-06-21 13:21:00   \n",
      "\n",
      "  Course duration Months of study Initial Amount Paid  Offer Total Amount  \\\n",
      "0               0            <NA>                 NaN                 NaN   \n",
      "1               6            <NA>                 0.0              2000.0   \n",
      "2               0            <NA>                 NaN                 NaN   \n",
      "3               0            <NA>                 NaN                 NaN   \n",
      "4               0            <NA>                 NaN                 NaN   \n",
      "\n",
      "          Contact Name         City  Level of Deutsch SLA in Seconds  \n",
      "0  5805028000056849495  Not defined       Not defined            NaN  \n",
      "1  5805028000056834471  Not defined       Not defined            NaN  \n",
      "2  5805028000056854421  Not defined       Not defined         1603.0  \n",
      "3  5805028000056889351  Not defined       Not defined         3604.0  \n",
      "4  5805028000056876176  Not defined       Not defined         3192.0  \n",
      "\n",
      "[5 rows x 23 columns]\n"
     ]
    }
   ],
   "source": [
    "# Remove any currency symbols or commas and convert to numeric\n",
    "deals['Offer Total Amount'] = pd.to_numeric(\n",
    "    deals['Offer Total Amount'].replace(r'[\\$,]', '', regex=True), \n",
    "    errors='coerce'\n",
    ")\n",
    "deals['Initial Amount Paid'] = pd.to_numeric(\n",
    "    deals['Initial Amount Paid'].replace(r'[\\$,]', '', regex=True), \n",
    "    errors='coerce'\n",
    ")\n",
    "\n",
    "# Define the condition where 'Initial Amount Paid' is greater than 'Offer Total Amount',\n",
    "# and 'Offer Total Amount' is not zero\n",
    "condition = (\n",
    "    (deals['Offer Total Amount'] < deals['Initial Amount Paid']) & \n",
    "    (deals['Offer Total Amount'] != 0)\n",
    ")\n",
    "\n",
    "# Swap the values in the specified columns where the condition is True\n",
    "deals.loc[condition, ['Offer Total Amount', 'Initial Amount Paid']] = \\\n",
    "    deals.loc[condition, ['Initial Amount Paid', 'Offer Total Amount']].values\n",
    "\n",
    "# Display the updated DataFrame to confirm the changes\n",
    "print(deals.head())"
   ]
  },
  {
   "cell_type": "code",
   "execution_count": 81,
   "id": "b0c4b121-ef67-4a38-8f75-bf048aa7e9f9",
   "metadata": {},
   "outputs": [
    {
     "name": "stdout",
     "output_type": "stream",
     "text": [
      "<class 'pandas.core.frame.DataFrame'>\n",
      "RangeIndex: 21411 entries, 0 to 21410\n",
      "Data columns (total 23 columns):\n",
      " #   Column               Non-Null Count  Dtype         \n",
      "---  ------               --------------  -----         \n",
      " 0   Id                   21411 non-null  object        \n",
      " 1   Deal Owner Name      21411 non-null  object        \n",
      " 2   Closing Date         14495 non-null  datetime64[ns]\n",
      " 3   Quality              21411 non-null  object        \n",
      " 4   Stage                21411 non-null  object        \n",
      " 5   Lost Reason          15942 non-null  object        \n",
      " 6   Page                 21411 non-null  object        \n",
      " 7   Campaign             16006 non-null  object        \n",
      " 8   Content              14101 non-null  object        \n",
      " 9   Term                 12424 non-null  object        \n",
      " 10  Source               21411 non-null  object        \n",
      " 11  Payment Type         496 non-null    object        \n",
      " 12  Product              21411 non-null  object        \n",
      " 13  Education Type       3299 non-null   object        \n",
      " 14  Created Time         21411 non-null  datetime64[ns]\n",
      " 15  Course duration      21411 non-null  Int8          \n",
      " 16  Months of study      840 non-null    Int8          \n",
      " 17  Initial Amount Paid  4155 non-null   float64       \n",
      " 18  Offer Total Amount   4175 non-null   float64       \n",
      " 19  Contact Name         21411 non-null  object        \n",
      " 20  City                 21411 non-null  object        \n",
      " 21  Level of Deutsch     21411 non-null  object        \n",
      " 22  SLA in Seconds       15504 non-null  float64       \n",
      "dtypes: Int8(2), datetime64[ns](2), float64(3), object(16)\n",
      "memory usage: 3.5+ MB\n"
     ]
    }
   ],
   "source": [
    "deals.info()"
   ]
  },
  {
   "cell_type": "code",
   "execution_count": 82,
   "id": "192cd21f-9c44-45ef-802b-ac7fe343d219",
   "metadata": {},
   "outputs": [
    {
     "name": "stdout",
     "output_type": "stream",
     "text": [
      "             Created Time Closing Date Created Date Only\n",
      "446   2024-06-16 00:06:00   2024-06-11        2024-06-16\n",
      "2035  2024-05-25 21:29:00   2024-05-22        2024-05-25\n",
      "2728  2024-05-12 11:19:00   2024-05-07        2024-05-12\n",
      "2958  2024-05-08 15:31:00   2024-05-07        2024-05-08\n",
      "2969  2024-05-08 12:54:00   2024-05-07        2024-05-08\n",
      "3624  2024-04-30 15:16:00   2024-04-23        2024-04-30\n",
      "4030  2024-04-24 17:30:00   2024-04-17        2024-04-24\n",
      "4089  2024-04-23 21:44:00   2024-04-18        2024-04-23\n",
      "4349  2024-04-21 08:57:00   2024-04-18        2024-04-21\n",
      "4435  2024-04-20 06:19:00   2023-08-21        2024-04-20\n",
      "4705  2024-04-17 09:10:00   2024-04-12        2024-04-17\n",
      "4810  2024-04-16 19:30:00   2024-04-11        2024-04-16\n",
      "4900  2024-04-16 15:35:00   2024-04-10        2024-04-16\n",
      "4987  2024-04-16 07:50:00   2024-04-11        2024-04-16\n",
      "5385  2024-04-13 04:14:00   2024-04-08        2024-04-13\n",
      "5549  2024-04-12 01:40:00   2024-04-09        2024-04-12\n",
      "6093  2024-04-07 15:02:00   2024-04-03        2024-04-07\n",
      "6237  2024-04-05 10:40:00   2023-10-03        2024-04-05\n",
      "7082  2024-03-26 16:44:00   2024-03-19        2024-03-26\n",
      "7477  2024-03-20 12:37:00   2024-03-13        2024-03-20\n",
      "8437  2024-03-06 09:15:00   2024-02-28        2024-03-06\n",
      "8593  2024-03-04 08:17:00   2024-02-29        2024-03-04\n",
      "8819  2024-02-29 08:54:00   2024-02-22        2024-02-29\n",
      "8859  2024-02-28 14:33:00   2024-02-21        2024-02-28\n",
      "9116  2024-02-25 04:14:00   2024-02-24        2024-02-25\n",
      "9242  2024-02-23 10:29:00   2024-02-16        2024-02-23\n",
      "9388  2024-02-21 19:51:00   2024-02-14        2024-02-21\n",
      "9697  2024-02-17 18:07:00   2024-02-13        2024-02-17\n",
      "10098 2024-02-08 17:20:00   2024-02-01        2024-02-08\n",
      "10141 2024-02-08 12:35:00   2024-02-01        2024-02-08\n",
      "10268 2024-02-07 17:39:00   2024-01-31        2024-02-07\n",
      "12237 2024-01-15 00:43:00   2024-01-11        2024-01-15\n",
      "13648 2023-12-19 10:37:00   2023-07-01        2023-12-19\n",
      "15032 2023-11-25 20:04:00   2023-11-19        2023-11-25\n",
      "15306 2023-11-21 17:55:00   2023-11-15        2023-11-21\n",
      "17173 2023-10-21 21:17:00   2023-09-26        2023-10-21\n",
      "17683 2023-10-12 18:17:00   2023-09-26        2023-10-12\n",
      "17784 2023-10-10 16:21:00   2023-09-20        2023-10-10\n",
      "18011 2023-10-05 21:51:00   2023-09-30        2023-10-05\n",
      "18028 2023-10-05 19:02:00   2023-09-24        2023-10-05\n",
      "18151 2023-10-03 10:36:00   2022-10-11        2023-10-03\n",
      "18237 2023-10-02 09:27:00   2023-09-25        2023-10-02\n",
      "20902 2023-08-08 14:40:00   2023-08-07        2023-08-08\n",
      "21204 2024-04-22 13:58:00   2023-12-08        2024-04-22\n",
      "21235 2024-03-09 14:09:00   2024-01-29        2024-03-09\n",
      "21315 2024-03-19 10:56:00   2024-03-12        2024-03-19\n",
      "21316 2024-05-20 10:40:00   2024-02-28        2024-05-20\n",
      "21376 2024-05-06 15:43:00   2024-04-11        2024-05-06\n",
      "21379 2024-05-08 14:48:00   2024-04-17        2024-05-08\n"
     ]
    }
   ],
   "source": [
    "# Create a new column that contains only the date part of 'Created Time' (no time)\n",
    "deals['Created Date Only'] = deals['Created Time'].dt.date\n",
    "\n",
    "# Compare only the dates (ignore time)\n",
    "mistake_mask = deals['Closing Date'].dt.date < deals['Created Date Only']\n",
    "\n",
    "# Filter rows where the closing date is earlier than the created date\n",
    "mistakes = deals[mistake_mask]\n",
    "\n",
    "# Display rows with detected mistakes\n",
    "print(mistakes[['Created Time', 'Closing Date', 'Created Date Only']])\n",
    "     "
   ]
  },
  {
   "cell_type": "code",
   "execution_count": 83,
   "id": "66aed2ca-d0f2-40b7-9394-244182d3c2a0",
   "metadata": {},
   "outputs": [
    {
     "name": "stdout",
     "output_type": "stream",
     "text": [
      "      Created Time        Closing Date\n",
      "446     2024-06-11 2024-06-16 00:06:00\n",
      "2035    2024-05-22 2024-05-25 21:29:00\n",
      "2728    2024-05-07 2024-05-12 11:19:00\n",
      "2958    2024-05-07 2024-05-08 15:31:00\n",
      "2969    2024-05-07 2024-05-08 12:54:00\n",
      "3624    2024-04-23 2024-04-30 15:16:00\n",
      "4030    2024-04-17 2024-04-24 17:30:00\n",
      "4089    2024-04-18 2024-04-23 21:44:00\n",
      "4349    2024-04-18 2024-04-21 08:57:00\n",
      "4435    2023-08-21 2024-04-20 06:19:00\n",
      "4705    2024-04-12 2024-04-17 09:10:00\n",
      "4810    2024-04-11 2024-04-16 19:30:00\n",
      "4900    2024-04-10 2024-04-16 15:35:00\n",
      "4987    2024-04-11 2024-04-16 07:50:00\n",
      "5385    2024-04-08 2024-04-13 04:14:00\n",
      "5549    2024-04-09 2024-04-12 01:40:00\n",
      "6093    2024-04-03 2024-04-07 15:02:00\n",
      "6237    2023-10-03 2024-04-05 10:40:00\n",
      "7082    2024-03-19 2024-03-26 16:44:00\n",
      "7477    2024-03-13 2024-03-20 12:37:00\n",
      "8437    2024-02-28 2024-03-06 09:15:00\n",
      "8593    2024-02-29 2024-03-04 08:17:00\n",
      "8819    2024-02-22 2024-02-29 08:54:00\n",
      "8859    2024-02-21 2024-02-28 14:33:00\n",
      "9116    2024-02-24 2024-02-25 04:14:00\n",
      "9242    2024-02-16 2024-02-23 10:29:00\n",
      "9388    2024-02-14 2024-02-21 19:51:00\n",
      "9697    2024-02-13 2024-02-17 18:07:00\n",
      "10098   2024-02-01 2024-02-08 17:20:00\n",
      "10141   2024-02-01 2024-02-08 12:35:00\n",
      "10268   2024-01-31 2024-02-07 17:39:00\n",
      "12237   2024-01-11 2024-01-15 00:43:00\n",
      "13648   2023-07-01 2023-12-19 10:37:00\n",
      "15032   2023-11-19 2023-11-25 20:04:00\n",
      "15306   2023-11-15 2023-11-21 17:55:00\n",
      "17173   2023-09-26 2023-10-21 21:17:00\n",
      "17683   2023-09-26 2023-10-12 18:17:00\n",
      "17784   2023-09-20 2023-10-10 16:21:00\n",
      "18011   2023-09-30 2023-10-05 21:51:00\n",
      "18028   2023-09-24 2023-10-05 19:02:00\n",
      "18151   2022-10-11 2023-10-03 10:36:00\n",
      "18237   2023-09-25 2023-10-02 09:27:00\n",
      "20902   2023-08-07 2023-08-08 14:40:00\n",
      "21204   2023-12-08 2024-04-22 13:58:00\n",
      "21235   2024-01-29 2024-03-09 14:09:00\n",
      "21315   2024-03-12 2024-03-19 10:56:00\n",
      "21316   2024-02-28 2024-05-20 10:40:00\n",
      "21376   2024-04-11 2024-05-06 15:43:00\n",
      "21379   2024-04-17 2024-05-08 14:48:00\n"
     ]
    }
   ],
   "source": [
    "# Create a mask where the closing date is earlier than the created date (ignoring time)\n",
    "mistake_mask = deals['Closing Date'].dt.date < deals['Created Date Only']\n",
    "\n",
    "# Swap 'Created Time' and 'Closing Date' where the mistake occurs\n",
    "deals.loc[mistake_mask, ['Created Time', 'Closing Date']] = deals.loc[mistake_mask, ['Closing Date', 'Created Time']].values\n",
    "\n",
    "#  Check the rows where the swap happened to confirm\n",
    "print(deals.loc[mistake_mask, ['Created Time', 'Closing Date']])"
   ]
  },
  {
   "cell_type": "code",
   "execution_count": 84,
   "id": "7ef8fbcf-6109-40a8-ab47-90c5b00225b0",
   "metadata": {},
   "outputs": [
    {
     "name": "stdout",
     "output_type": "stream",
     "text": [
      "<class 'pandas.core.frame.DataFrame'>\n",
      "RangeIndex: 21411 entries, 0 to 21410\n",
      "Data columns (total 24 columns):\n",
      " #   Column               Non-Null Count  Dtype         \n",
      "---  ------               --------------  -----         \n",
      " 0   Id                   21411 non-null  object        \n",
      " 1   Deal Owner Name      21411 non-null  object        \n",
      " 2   Closing Date         14495 non-null  datetime64[ns]\n",
      " 3   Quality              21411 non-null  object        \n",
      " 4   Stage                21411 non-null  object        \n",
      " 5   Lost Reason          15942 non-null  object        \n",
      " 6   Page                 21411 non-null  object        \n",
      " 7   Campaign             16006 non-null  object        \n",
      " 8   Content              14101 non-null  object        \n",
      " 9   Term                 12424 non-null  object        \n",
      " 10  Source               21411 non-null  object        \n",
      " 11  Payment Type         496 non-null    object        \n",
      " 12  Product              21411 non-null  object        \n",
      " 13  Education Type       3299 non-null   object        \n",
      " 14  Created Time         21411 non-null  datetime64[ns]\n",
      " 15  Course duration      21411 non-null  Int8          \n",
      " 16  Months of study      840 non-null    Int8          \n",
      " 17  Initial Amount Paid  4155 non-null   float64       \n",
      " 18  Offer Total Amount   4175 non-null   float64       \n",
      " 19  Contact Name         21411 non-null  object        \n",
      " 20  City                 21411 non-null  object        \n",
      " 21  Level of Deutsch     21411 non-null  object        \n",
      " 22  SLA in Seconds       15504 non-null  float64       \n",
      " 23  Created Date Only    21411 non-null  object        \n",
      "dtypes: Int8(2), datetime64[ns](2), float64(3), object(17)\n",
      "memory usage: 3.7+ MB\n"
     ]
    }
   ],
   "source": [
    "deals.info()"
   ]
  },
  {
   "cell_type": "code",
   "execution_count": 85,
   "id": "25a4a795-54d6-4e73-a0ec-ff700149741b",
   "metadata": {},
   "outputs": [],
   "source": [
    "# Drop the helper column after the correction\n",
    "deals.drop(columns='Created Date Only', inplace=True)"
   ]
  },
  {
   "cell_type": "code",
   "execution_count": 86,
   "id": "869065c4-fed9-4f89-91d3-2bd54a855287",
   "metadata": {},
   "outputs": [
    {
     "name": "stdout",
     "output_type": "stream",
     "text": [
      "<class 'pandas.core.frame.DataFrame'>\n",
      "RangeIndex: 21411 entries, 0 to 21410\n",
      "Data columns (total 23 columns):\n",
      " #   Column               Non-Null Count  Dtype         \n",
      "---  ------               --------------  -----         \n",
      " 0   Id                   21411 non-null  object        \n",
      " 1   Deal Owner Name      21411 non-null  object        \n",
      " 2   Closing Date         14495 non-null  datetime64[ns]\n",
      " 3   Quality              21411 non-null  object        \n",
      " 4   Stage                21411 non-null  object        \n",
      " 5   Lost Reason          15942 non-null  object        \n",
      " 6   Page                 21411 non-null  object        \n",
      " 7   Campaign             16006 non-null  object        \n",
      " 8   Content              14101 non-null  object        \n",
      " 9   Term                 12424 non-null  object        \n",
      " 10  Source               21411 non-null  object        \n",
      " 11  Payment Type         496 non-null    object        \n",
      " 12  Product              21411 non-null  object        \n",
      " 13  Education Type       3299 non-null   object        \n",
      " 14  Created Time         21411 non-null  datetime64[ns]\n",
      " 15  Course duration      21411 non-null  Int8          \n",
      " 16  Months of study      840 non-null    Int8          \n",
      " 17  Initial Amount Paid  4155 non-null   float64       \n",
      " 18  Offer Total Amount   4175 non-null   float64       \n",
      " 19  Contact Name         21411 non-null  object        \n",
      " 20  City                 21411 non-null  object        \n",
      " 21  Level of Deutsch     21411 non-null  object        \n",
      " 22  SLA in Seconds       15504 non-null  float64       \n",
      "dtypes: Int8(2), datetime64[ns](2), float64(3), object(16)\n",
      "memory usage: 3.5+ MB\n"
     ]
    }
   ],
   "source": [
    "deals.info()"
   ]
  },
  {
   "cell_type": "code",
   "execution_count": 87,
   "id": "83c18110-1ed4-4a92-b189-8ab1e81e993b",
   "metadata": {},
   "outputs": [
    {
     "name": "stdout",
     "output_type": "stream",
     "text": [
      "Number of updated rows: 3288\n"
     ]
    }
   ],
   "source": [
    "# Replace incorrect 'Lost' status with 'Payment Done' where payment has been made\n",
    "deals.loc[deals['Initial Amount Paid'] > 0, 'Stage'] = 'Payment Done'\n",
    "\n",
    "# Convert 'Lost Reason' to categorical if it's not already\n",
    "if not isinstance(deals['Lost Reason'].dtype, pd.CategoricalDtype):\n",
    "    deals['Lost Reason'] = deals['Lost Reason'].astype('category')\n",
    "\n",
    "# Add 'No reason' to the list of categories if it's not already included\n",
    "if 'No reason' not in deals['Lost Reason'].cat.categories:\n",
    "    deals['Lost Reason'] = deals['Lost Reason'].cat.add_categories(['No reason'])\n",
    "\n",
    "# Set 'Lost Reason' to 'No reason' where payment has been made\n",
    "deals.loc[deals['Initial Amount Paid'] > 0, 'Lost Reason'] = 'No reason'\n",
    "\n",
    "mask = deals['Initial Amount Paid'] > 0\n",
    "\n",
    "# Number of updated rows\n",
    "num_updated = mask.sum()\n",
    "\n",
    "print(\"Number of updated rows:\", num_updated)"
   ]
  },
  {
   "cell_type": "code",
   "execution_count": 88,
   "id": "0f5fbcb2-d5a9-49ad-ac2e-3ff1d8b1c618",
   "metadata": {},
   "outputs": [
    {
     "name": "stdout",
     "output_type": "stream",
     "text": [
      "<class 'pandas.core.frame.DataFrame'>\n",
      "RangeIndex: 21411 entries, 0 to 21410\n",
      "Data columns (total 23 columns):\n",
      " #   Column               Non-Null Count  Dtype         \n",
      "---  ------               --------------  -----         \n",
      " 0   Id                   21411 non-null  object        \n",
      " 1   Deal Owner Name      21411 non-null  category      \n",
      " 2   Closing Date         14495 non-null  datetime64[ns]\n",
      " 3   Quality              21411 non-null  category      \n",
      " 4   Stage                21411 non-null  category      \n",
      " 5   Lost Reason          17324 non-null  category      \n",
      " 6   Page                 21411 non-null  category      \n",
      " 7   Campaign             16006 non-null  category      \n",
      " 8   Content              14101 non-null  category      \n",
      " 9   Term                 12424 non-null  category      \n",
      " 10  Source               21411 non-null  category      \n",
      " 11  Payment Type         496 non-null    category      \n",
      " 12  Product              21411 non-null  category      \n",
      " 13  Education Type       3299 non-null   category      \n",
      " 14  Created Time         21411 non-null  datetime64[ns]\n",
      " 15  Course duration      21411 non-null  Int8          \n",
      " 16  Months of study      840 non-null    Int8          \n",
      " 17  Initial Amount Paid  4155 non-null   float64       \n",
      " 18  Offer Total Amount   4175 non-null   float64       \n",
      " 19  Contact Name         21411 non-null  object        \n",
      " 20  City                 21411 non-null  category      \n",
      " 21  Level of Deutsch     21411 non-null  category      \n",
      " 22  SLA in Seconds       15504 non-null  float64       \n",
      "dtypes: Int8(2), category(14), datetime64[ns](2), float64(3), object(2)\n",
      "memory usage: 1.7+ MB\n"
     ]
    }
   ],
   "source": [
    "# Convert the data types of certain columns to categorical\n",
    "category_columns = ['Deal Owner Name', 'Quality', 'Stage',\n",
    "                    'Page', 'Campaign', 'Content',\n",
    "                     'Term', 'Source', 'Payment Type', 'Product', 'City',\n",
    "                     'Level of Deutsch', 'Education Type']\n",
    "for col in category_columns:\n",
    "  deals[col] = deals[col].astype('category')\n",
    "deals.info()"
   ]
  },
  {
   "cell_type": "code",
   "execution_count": 89,
   "id": "27c04603-3a2a-4b19-9e9c-fcdb3d468631",
   "metadata": {},
   "outputs": [
    {
     "name": "stdout",
     "output_type": "stream",
     "text": [
      "Missing values before filling: 18112\n",
      "Missing values after filling: 17971\n",
      "Filled values: 141\n"
     ]
    }
   ],
   "source": [
    "# Count missing values before filling\n",
    "missing_before = deals['Education Type'].isna().sum()\n",
    "\n",
    "# Compute the most frequent 'Education Type' per group, with observed=True\n",
    "mode_education = deals.groupby(\n",
    "    ['Offer Total Amount', 'Course duration', 'Product'],\n",
    "    observed=True  # Explicitly set to future default\n",
    ")['Education Type'].agg(\n",
    "    lambda x: x.mode().iloc[0] if not x.mode().empty else None\n",
    ").reset_index()\n",
    "\n",
    "# Merge the mode data back into the original DataFrame\n",
    "deals = deals.merge(\n",
    "    mode_education,\n",
    "    on=['Offer Total Amount', 'Course duration', 'Product'],\n",
    "    how='left',\n",
    "    suffixes=('', '_mode')\n",
    ")\n",
    "\n",
    "# Fill missing values with the calculated mode\n",
    "deals['Education Type'] = deals['Education Type'].fillna(deals['Education Type_mode'])\n",
    "\n",
    "# Count missing values after filling\n",
    "missing_after = deals['Education Type'].isna().sum()\n",
    "filled_count = missing_before - missing_after\n",
    "\n",
    "# Drop helper column\n",
    "deals.drop(columns=['Education Type_mode'], inplace=True)\n",
    "\n",
    "# Show results\n",
    "print(f\"Missing values before filling: {missing_before}\")\n",
    "print(f\"Missing values after filling: {missing_after}\")\n",
    "print(f\"Filled values: {filled_count}\")"
   ]
  },
  {
   "cell_type": "code",
   "execution_count": 90,
   "id": "175fe62a-baad-43e6-a96d-23eec0b896a5",
   "metadata": {},
   "outputs": [
    {
     "data": {
      "text/plain": [
       "Payment Type\n",
       "One Payment            17375\n",
       "Recurring Payments      3164\n",
       "No Payments              825\n",
       "No Initial Payments       42\n",
       "Reservation                5\n",
       "Name: count, dtype: int64"
      ]
     },
     "execution_count": 90,
     "metadata": {},
     "output_type": "execute_result"
    }
   ],
   "source": [
    "# Define a function to classify the Payment type based on deal information\n",
    "def classify_payment_type(row):\n",
    "    # If the existing value is already 'Reservation', keep it as is\n",
    "    if row['Payment Type'] == 'Reservation':\n",
    "        return 'Reservation'\n",
    "    \n",
    "    # If both the offer and the initial payment are zero, no payment has occurred\n",
    "    elif row['Offer Total Amount'] == 0 and row['Initial Amount Paid'] == 0:\n",
    "        return 'No Payments'\n",
    "    \n",
    "    # If there's an offer amount but nothing was paid yet\n",
    "    elif row['Initial Amount Paid'] == 0:\n",
    "        return 'No Initial Payments'\n",
    "    \n",
    "    # If the absolute difference between the offer and initial payment is greater than 200,\n",
    "    # this likely means the payment was made in installments or involves recurring charges\n",
    "    elif abs(row['Offer Total Amount'] - row['Initial Amount Paid']) > 200:\n",
    "        return 'Recurring Payments'\n",
    "    \n",
    "    # Otherwise, we assume it was a full one-time payment\n",
    "    else:\n",
    "        return 'One Payment'\n",
    "\n",
    "# Apply the classification function to each row in the DataFrame\n",
    "# axis=1 ensures that the function receives a full row (Series) for evaluation\n",
    "deals['Payment Type'] = deals.apply(classify_payment_type, axis=1)\n",
    "deals['Payment Type'].value_counts()"
   ]
  },
  {
   "cell_type": "code",
   "execution_count": 91,
   "id": "cf6a7eb9-7967-40f7-8ef5-e295d75668e2",
   "metadata": {},
   "outputs": [
    {
     "name": "stdout",
     "output_type": "stream",
     "text": [
      "Filled 'Education Type': 17971 values\n",
      "Filled 'Lost Reason': 4087 values\n",
      "Filled 'SLA in Seconds': 5907 values\n",
      "Education Type\n",
      "Unknown    17971\n",
      "Morning     3028\n",
      "Evening      412\n",
      "Name: count, dtype: int64\n",
      "Lost Reason\n",
      "Not lost                                   4087\n",
      "Doesn't Answer                             3972\n",
      "No reason                                  3288\n",
      "Changed Decision                           1654\n",
      "Non target                                 1635\n",
      "Duplicate                                  1541\n",
      "Invalid number                             1444\n",
      "Stopped Answering                          1083\n",
      "Expensive                                   584\n",
      "needs time to think                         510\n",
      "Conditions are not suitable                 485\n",
      "Next stream                                 193\n",
      "Inadequate                                  166\n",
      "Not for myself                              141\n",
      "Does not speak English                      138\n",
      "Didn't leave an application                 133\n",
      "Considering a different direction in IT     129\n",
      "Thought for free                            108\n",
      "Does not know how to use a computer          46\n",
      "Went to Rivals                               32\n",
      "Gutstein refusal                             22\n",
      "The contract did not fit                     19\n",
      "Refugee                                       1\n",
      "Name: count, dtype: int64\n",
      "SLA in Seconds\n",
      "0.0        5907\n",
      "611.0         6\n",
      "669.0         6\n",
      "646.0         6\n",
      "1807.0        5\n",
      "           ... \n",
      "7686.0        1\n",
      "16217.0       1\n",
      "28592.0       1\n",
      "12023.0       1\n",
      "52672.0       1\n",
      "Name: count, Length: 13335, dtype: int64\n"
     ]
    }
   ],
   "source": [
    "# Fill missing values in 'Education Type'\n",
    "# First, check if the column is categorical and add 'Unknown' if needed\n",
    "if isinstance(deals['Education Type'].dtype, pd.CategoricalDtype):\n",
    "    if 'Unknown' not in deals['Education Type'].cat.categories:\n",
    "        deals['Education Type'] = deals['Education Type'].cat.add_categories(['Unknown'])\n",
    "\n",
    "# Count how many missing before filling\n",
    "education_na_count = deals['Education Type'].isna().sum()\n",
    "deals['Education Type'] = deals['Education Type'].fillna('Unknown')\n",
    "\n",
    "# Fill missing values in 'Lost Reason'\n",
    "if isinstance(deals['Lost Reason'].dtype, pd.CategoricalDtype):\n",
    "    if 'Not lost' not in deals['Lost Reason'].cat.categories:\n",
    "        deals['Lost Reason'] = deals['Lost Reason'].cat.add_categories(['Not lost'])\n",
    "\n",
    "lost_reason_na_count = deals['Lost Reason'].isna().sum()\n",
    "deals['Lost Reason'] = deals['Lost Reason'].fillna('Not lost')\n",
    "\n",
    "# Fill missing values in 'SLA in Seconds' with 0\n",
    "sla_na_count = deals['SLA in Seconds'].isna().sum()\n",
    "deals['SLA in Seconds'] = deals['SLA in Seconds'].fillna(0)\n",
    "\n",
    "# Print how many missing values were filled\n",
    "print(f\"Filled 'Education Type': {education_na_count} values\")\n",
    "print(f\"Filled 'Lost Reason': {lost_reason_na_count} values\")\n",
    "print(f\"Filled 'SLA in Seconds': {sla_na_count} values\")\n",
    "\n",
    "print(deals['Education Type'].value_counts())\n",
    "print(deals['Lost Reason'].value_counts())\n",
    "print(deals['SLA in Seconds'].value_counts())"
   ]
  },
  {
   "cell_type": "code",
   "execution_count": 92,
   "id": "12d37cc3-7918-4cd1-833b-089c9a51c8d0",
   "metadata": {},
   "outputs": [
    {
     "name": "stdout",
     "output_type": "stream",
     "text": [
      "<class 'pandas.core.frame.DataFrame'>\n",
      "RangeIndex: 21411 entries, 0 to 21410\n",
      "Data columns (total 20 columns):\n",
      " #   Column               Non-Null Count  Dtype         \n",
      "---  ------               --------------  -----         \n",
      " 0   Id                   21411 non-null  object        \n",
      " 1   Deal Owner Name      21411 non-null  category      \n",
      " 2   Closing Date         14495 non-null  datetime64[ns]\n",
      " 3   Quality              21411 non-null  category      \n",
      " 4   Stage                21411 non-null  category      \n",
      " 5   Lost Reason          21411 non-null  category      \n",
      " 6   Campaign             16006 non-null  category      \n",
      " 7   Source               21411 non-null  category      \n",
      " 8   Payment Type         21411 non-null  object        \n",
      " 9   Product              21411 non-null  category      \n",
      " 10  Education Type       21411 non-null  category      \n",
      " 11  Created Time         21411 non-null  datetime64[ns]\n",
      " 12  Course duration      21411 non-null  Int8          \n",
      " 13  Months of study      840 non-null    Int8          \n",
      " 14  Initial Amount Paid  4155 non-null   float64       \n",
      " 15  Offer Total Amount   4175 non-null   float64       \n",
      " 16  Contact Name         21411 non-null  object        \n",
      " 17  City                 21411 non-null  category      \n",
      " 18  Level of Deutsch     21411 non-null  category      \n",
      " 19  SLA in Seconds       21411 non-null  float64       \n",
      "dtypes: Int8(2), category(10), datetime64[ns](2), float64(3), object(3)\n",
      "memory usage: 1.7+ MB\n"
     ]
    }
   ],
   "source": [
    "# Drop the 'Content' column from the DataFrame if it's no longer needed\n",
    "deals = deals.drop(columns=['Content'])\n",
    "\n",
    "# Drop the 'Page' column — for example, if it contains redundant or irrelevant tracking data\n",
    "deals = deals.drop(columns=['Page'])\n",
    "\n",
    "# Drop the 'Term' column, likely related to search keywords or UTM parameters that aren't needed\n",
    "deals = deals.drop(columns=['Term'])\n",
    "deals.info()"
   ]
  },
  {
   "cell_type": "code",
   "execution_count": 93,
   "id": "8cdb597b-c741-4802-b839-a8c687f52cf2",
   "metadata": {},
   "outputs": [],
   "source": [
    "# Saving the updated file after cleaning\n",
    "deals.to_excel(\"Deals (Final).xlsx\", index=False)"
   ]
  },
  {
   "cell_type": "code",
   "execution_count": null,
   "id": "7b746886-0bd4-4531-9772-77803ed53ec7",
   "metadata": {},
   "outputs": [],
   "source": []
  }
 ],
 "metadata": {
  "kernelspec": {
   "display_name": "Python 3 (ipykernel)",
   "language": "python",
   "name": "python3"
  },
  "language_info": {
   "codemirror_mode": {
    "name": "ipython",
    "version": 3
   },
   "file_extension": ".py",
   "mimetype": "text/x-python",
   "name": "python",
   "nbconvert_exporter": "python",
   "pygments_lexer": "ipython3",
   "version": "3.13.1"
  }
 },
 "nbformat": 4,
 "nbformat_minor": 5
}
